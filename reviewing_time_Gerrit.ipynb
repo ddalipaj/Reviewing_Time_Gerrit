{
 "cells": [
  {
   "cell_type": "markdown",
   "metadata": {},
   "source": [
    "# Time to review in Open Stack Gerrit "
   ]
  },
  {
   "cell_type": "code",
   "execution_count": 336,
   "metadata": {
    "collapsed": false
   },
   "outputs": [],
   "source": [
    "import MySQLdb\n",
    "import pandas\n",
    "\n",
    "def connect():\n",
    "   user = \"root\"\n",
    "   password = \"\"\n",
    "   host = \"localhost\"\n",
    "   db = \"lp_vs_gerrit_metrics\"\n",
    "   port=3306\n",
    "   use_unicode=True\n",
    "\n",
    "   try:\n",
    "      db = MySQLdb.connect(user = user, passwd = password, db = db, port = port, use_unicode = use_unicode)\n",
    "      return db, db.cursor()\n",
    "   except:\n",
    "      logging.error(\"Database connection error!\")\n",
    "      raise\n",
    "        \n",
    "def execute_query(connector, query):\n",
    "   results = int (connector.execute(query))\n",
    "   cont = 0\n",
    "   if results > 0:\n",
    "      result1 = connector.fetchall()\n",
    "      return result1\n",
    "   else:\n",
    "      return []\n",
    "    \n",
    "db, cursor = connect()"
   ]
  },
  {
   "cell_type": "markdown",
   "metadata": {},
   "source": [
    "### The next query focuses on collecting data for measuring the time to review the issues in Gerrit. \n",
    "For this we extract the issues that have been closed. "
   ]
  },
  {
   "cell_type": "code",
   "execution_count": null,
   "metadata": {
    "collapsed": true
   },
   "outputs": [],
   "source": [
    "cursor.execute(\"\"\" create table review_time as \n",
    "            select i.issue                       as gerrit_issue,  \n",
    "                   t0.opening_date               as gerrit_opening_date,  \n",
    "                   t1.closing_date               as gerrit_closing_date, \n",
    "                   timestampdiff(SECOND, t0.opening_date, t1.closing_date) as time2close, \n",
    "                   t.url                         as gerrit_tracker,\n",
    "                   i.status                      as current_status \n",
    "            from issuesCR i, \n",
    "                 trackers t, \n",
    "                 changes ch, \n",
    "                 (select i.id as issue_id, \n",
    "                         ch.changed_on as closing_date \n",
    "                  from issuesCR i \n",
    "                    left join changes ch \n",
    "                    on ch.issue_id = i.id and \n",
    "                       field='status' and \n",
    "                       new_value='MERGED' ) t1, \n",
    "                 (select ch.issue_id, \n",
    "                         ch.changed_on as opening_date \n",
    "                  from changes ch \n",
    "                  where ch.field='status' and \n",
    "                        ch.new_value='UPLOADED' and \n",
    "                        ch.old_value=1) t0 \n",
    "            where i.tracker_id=t.id and \n",
    "                  ch.issue_id = i.id and \n",
    "                  i.id=t0.issue_id  and \n",
    "                  i.id=t1.issue_id \n",
    "            group by i.issue \"\"\")"
   ]
  },
  {
   "cell_type": "markdown",
   "metadata": {},
   "source": [
    "## Time to review in Openstack Gerrit from year 2011 to 2015"
   ]
  },
  {
   "cell_type": "code",
   "execution_count": 338,
   "metadata": {
    "collapsed": false
   },
   "outputs": [],
   "source": [
    "query = \" select * from review_time where current_status='MERGED' \""
   ]
  },
  {
   "cell_type": "code",
   "execution_count": 339,
   "metadata": {
    "collapsed": false
   },
   "outputs": [],
   "source": [
    "data = execute_query(cursor, query)"
   ]
  },
  {
   "cell_type": "code",
   "execution_count": 340,
   "metadata": {
    "collapsed": true
   },
   "outputs": [],
   "source": [
    "data_list = list(data)"
   ]
  },
  {
   "cell_type": "code",
   "execution_count": 341,
   "metadata": {
    "collapsed": false
   },
   "outputs": [
    {
     "data": {
      "text/plain": [
       "['gerrit_issue',\n",
       " 'gerrit_opening_date',\n",
       " 'gerrit_closing_date',\n",
       " 'time2close',\n",
       " 'gerrit_tracker',\n",
       " 'current_status']"
      ]
     },
     "execution_count": 341,
     "metadata": {},
     "output_type": "execute_result"
    }
   ],
   "source": [
    "pandas_ds = pandas.DataFrame(data_list, columns=[\"gerrit_issue\", \"gerrit_opening_date\", \"gerrit_closing_date\", \"time2close\", \"gerrit_tracker\", \"current_status\"])\n",
    "pandas_ds.columns.values.tolist()"
   ]
  },
  {
   "cell_type": "code",
   "execution_count": 277,
   "metadata": {
    "collapsed": false
   },
   "outputs": [],
   "source": [
    "# pandas_ds"
   ]
  },
  {
   "cell_type": "markdown",
   "metadata": {},
   "source": [
    "166727 total fixes merged in OpenStack from 2011 to 2015."
   ]
  },
  {
   "cell_type": "code",
   "execution_count": 342,
   "metadata": {
    "collapsed": false,
    "scrolled": true
   },
   "outputs": [
    {
     "name": "stdout",
     "output_type": "stream",
     "text": [
      "Median time for reviewing in Gerrit form 2011 to 2015: 52.171111 hours\n",
      "Quantiles: (time measured in seconds) \n",
      "      time2close\n",
      "0.25    29587.25\n",
      "0.50   187816.00\n",
      "0.75   769489.50\n"
     ]
    }
   ],
   "source": [
    "# time to review in Open Stack form 2011 to 2015 \n",
    "print \"Median time for reviewing in Gerrit form 2011 to 2015: %f hours\" % (pandas_ds.median()/3600.0)\n",
    "print \"Quantiles: (time measured in seconds) \"\n",
    "print pandas_ds.quantile([0.25, 0.5, 0.75])"
   ]
  },
  {
   "cell_type": "code",
   "execution_count": 38,
   "metadata": {
    "collapsed": false,
    "scrolled": true
   },
   "outputs": [
    {
     "name": "stdout",
     "output_type": "stream",
     "text": [
      "Populating the interactive namespace from numpy and matplotlib\n"
     ]
    },
    {
     "data": {
      "text/plain": [
       "<matplotlib.axes._subplots.AxesSubplot at 0x7f3673fb4dd0>"
      ]
     },
     "execution_count": 38,
     "metadata": {},
     "output_type": "execute_result"
    },
    {
     "data": {
      "image/png": "[encoded data removed]",
      "text/plain": [
       "<matplotlib.figure.Figure at 0x7f367dbe7750>"
      ]
     },
     "metadata": {},
     "output_type": "display_data"
    }
   ],
   "source": [
    "# Histogram of the time for solving an issue: x-axis the time and y-axis the fixes merged\n",
    "%pylab inline\n",
    "pandas_ds[\"time2close\"].plot(kind=\"hist\")"
   ]
  },
  {
   "cell_type": "markdown",
   "metadata": {},
   "source": [
    "## Time to review in Open Stack during 2015"
   ]
  },
  {
   "cell_type": "code",
   "execution_count": 311,
   "metadata": {
    "collapsed": false
   },
   "outputs": [],
   "source": [
    "# review time in OS for year 2015\n",
    "os_review_time_2015 = pandas_ds[(pandas_ds[\"gerrit_closing_date\"] >= '2015-01-01') & (pandas_ds[\"gerrit_closing_date\"] <= '2016-01-01')];\n",
    "# os_review_time_2015"
   ]
  },
  {
   "cell_type": "markdown",
   "metadata": {},
   "source": [
    "74651 fixes merged in OS during 2015."
   ]
  },
  {
   "cell_type": "code",
   "execution_count": 312,
   "metadata": {
    "collapsed": false
   },
   "outputs": [
    {
     "name": "stdout",
     "output_type": "stream",
     "text": [
      "Median Time for reviewing during 2015: 57.915833 hours\n",
      "Quantiles: (time reported in seconds) \n",
      "      time2close\n",
      "0.25     36779.0\n",
      "0.50    208497.0\n",
      "0.75    829968.5\n"
     ]
    }
   ],
   "source": [
    "# Median time and quantiles for OS 2015\n",
    "print \"Median Time for reviewing during 2015: %f hours\" % (os_review_time_2015.median()/3600.0)\n",
    "print \"Quantiles: (time reported in seconds) \"\n",
    "print os_review_time_2015.quantile([0.25, 0.5, 0.75])"
   ]
  },
  {
   "cell_type": "markdown",
   "metadata": {},
   "source": [
    "## Time to review in Open Stack during 2014"
   ]
  },
  {
   "cell_type": "code",
   "execution_count": 314,
   "metadata": {
    "collapsed": false
   },
   "outputs": [],
   "source": [
    "# review time in OS for year 2014\n",
    "os_review_time_2014 = pandas_ds[(pandas_ds[\"gerrit_closing_date\"] >= '2014-01-01') & (pandas_ds[\"gerrit_closing_date\"] <= '2015-01-01')];\n",
    "# os_review_time_2014"
   ]
  },
  {
   "cell_type": "markdown",
   "metadata": {},
   "source": [
    "49482 fixes merged in OS during 2014."
   ]
  },
  {
   "cell_type": "code",
   "execution_count": 316,
   "metadata": {
    "collapsed": false
   },
   "outputs": [
    {
     "name": "stdout",
     "output_type": "stream",
     "text": [
      "Median Time for reviewing during 2015: 78.158472 hours\n",
      "Quantiles: (time reported in seconds) \n",
      "      time2close\n",
      "0.25     50385.0\n",
      "0.50    281370.5\n",
      "0.75   1084131.0\n"
     ]
    }
   ],
   "source": [
    "# Median time and quantiles for OS 2014\n",
    "print \"Median Time for reviewing during 2015: %f hours\" % (os_review_time_2014.median()/3600.0)\n",
    "print \"Quantiles: (time reported in seconds) \"\n",
    "print os_review_time_2014.quantile([0.25, 0.5, 0.75])"
   ]
  },
  {
   "cell_type": "markdown",
   "metadata": {},
   "source": [
    "## Time to review in Open Stack during 2013"
   ]
  },
  {
   "cell_type": "code",
   "execution_count": 318,
   "metadata": {
    "collapsed": false
   },
   "outputs": [],
   "source": [
    "# review time in OS for year 2013\n",
    "os_review_time_2013 = pandas_ds[(pandas_ds[\"gerrit_closing_date\"] >= '2013-01-01') & (pandas_ds[\"gerrit_closing_date\"] <= '2014-01-01')];\n",
    "# os_review_time_2013"
   ]
  },
  {
   "cell_type": "markdown",
   "metadata": {},
   "source": [
    "28236 fixes merged in OS during 2013."
   ]
  },
  {
   "cell_type": "code",
   "execution_count": 319,
   "metadata": {
    "collapsed": false
   },
   "outputs": [
    {
     "name": "stdout",
     "output_type": "stream",
     "text": [
      "Median Time for reviewing during 2013: 36.641667 hours\n",
      "Quantiles: (time reported in seconds) \n",
      "      time2close\n",
      "0.25     17918.5\n",
      "0.50    131910.0\n",
      "0.75    554299.5\n"
     ]
    }
   ],
   "source": [
    "# Median time and quantiles for OS 2013\n",
    "print \"Median Time for reviewing during 2013: %f hours\" % (os_review_time_2013.median()/3600.0)\n",
    "print \"Quantiles: (time reported in seconds) \"\n",
    "print os_review_time_2013.quantile([0.25, 0.5, 0.75])"
   ]
  },
  {
   "cell_type": "markdown",
   "metadata": {},
   "source": [
    "## Time to review in Open Stack during 2012"
   ]
  },
  {
   "cell_type": "code",
   "execution_count": 322,
   "metadata": {
    "collapsed": false,
    "scrolled": true
   },
   "outputs": [],
   "source": [
    "# review time in OS for year 2012\n",
    "os_review_time_2012 = pandas_ds[(pandas_ds[\"gerrit_closing_date\"] >= '2012-01-01') & (pandas_ds[\"gerrit_closing_date\"] <= '2013-01-01')];\n",
    "# os_review_time_2012"
   ]
  },
  {
   "cell_type": "markdown",
   "metadata": {},
   "source": [
    "11084 fixes merged in OS during 2012."
   ]
  },
  {
   "cell_type": "code",
   "execution_count": 323,
   "metadata": {
    "collapsed": false
   },
   "outputs": [
    {
     "name": "stdout",
     "output_type": "stream",
     "text": [
      "Median Time for reviewing during 2012: 16.795833 hours\n",
      "Quantiles: (time reported in seconds) \n",
      "      time2close\n",
      "0.25     3131.25\n",
      "0.50    60465.00\n",
      "0.75   294363.75\n"
     ]
    }
   ],
   "source": [
    "# Median time and quantiles for OS 2012\n",
    "print \"Median Time for reviewing during 2012: %f hours\" % (os_review_time_2012.median()/3600.0)\n",
    "print \"Quantiles: (time reported in seconds) \"\n",
    "print os_review_time_2012.quantile([0.25, 0.5, 0.75])"
   ]
  },
  {
   "cell_type": "markdown",
   "metadata": {},
   "source": [
    "## Time to review in Open Stack during 2011"
   ]
  },
  {
   "cell_type": "code",
   "execution_count": 326,
   "metadata": {
    "collapsed": false,
    "scrolled": true
   },
   "outputs": [],
   "source": [
    "# review time in OS for year 2011\n",
    "os_review_time_2011 = pandas_ds[(pandas_ds[\"gerrit_closing_date\"] >= '2011-01-01') & (pandas_ds[\"gerrit_closing_date\"] <= '2012-01-01')];\n",
    "# os_review_time_2011"
   ]
  },
  {
   "cell_type": "markdown",
   "metadata": {},
   "source": [
    "1610 fixes merged in OS during 2011."
   ]
  },
  {
   "cell_type": "code",
   "execution_count": 327,
   "metadata": {
    "collapsed": false
   },
   "outputs": [
    {
     "name": "stdout",
     "output_type": "stream",
     "text": [
      "Median Time for reviewing during 2011: 3.630417 hours\n",
      "Quantiles: (time reported in seconds) \n",
      "      time2close\n",
      "0.25       44.25\n",
      "0.50    13069.50\n",
      "0.75   154186.00\n"
     ]
    }
   ],
   "source": [
    "# Median time and quantiles for OS 2011\n",
    "print \"Median Time for reviewing during 2011: %f hours\" % (os_review_time_2011.median()/3600.0)\n",
    "print \"Quantiles: (time reported in seconds) \"\n",
    "print os_review_time_2011.quantile([0.25, 0.5, 0.75])"
   ]
  },
  {
   "cell_type": "markdown",
   "metadata": {},
   "source": [
    "# Time to review in Nova"
   ]
  },
  {
   "cell_type": "code",
   "execution_count": 4,
   "metadata": {
    "collapsed": true
   },
   "outputs": [],
   "source": [
    "query_nova = \"\"\" select * from review_time \n",
    "where \n",
    "gerrit_tracker like '%nova%' and \n",
    "current_status = 'MERGED' \"\"\""
   ]
  },
  {
   "cell_type": "code",
   "execution_count": 5,
   "metadata": {
    "collapsed": true
   },
   "outputs": [],
   "source": [
    "data_nova = execute_query(cursor,query_nova)"
   ]
  },
  {
   "cell_type": "code",
   "execution_count": 6,
   "metadata": {
    "collapsed": true
   },
   "outputs": [],
   "source": [
    "data_nova_list = list(data_nova)"
   ]
  },
  {
   "cell_type": "code",
   "execution_count": 7,
   "metadata": {
    "collapsed": false
   },
   "outputs": [
    {
     "data": {
      "text/plain": [
       "['gerrit_issue',\n",
       " 'gerrit_opening_date',\n",
       " 'gerrit_closing_date',\n",
       " 'time2close',\n",
       " 'gerrit_tracker',\n",
       " 'current_status']"
      ]
     },
     "execution_count": 7,
     "metadata": {},
     "output_type": "execute_result"
    }
   ],
   "source": [
    "data_nova_df = pandas.DataFrame(data_nova_list, columns=[\"gerrit_issue\", \"gerrit_opening_date\", \"gerrit_closing_date\", \"time2close\", \"gerrit_tracker\", \"current_status\"])\n",
    "data_nova_df.columns.values.tolist()"
   ]
  },
  {
   "cell_type": "markdown",
   "metadata": {},
   "source": [
    "### 16191 fixes have been merged in Nova project from 2011 to 2015 and January 2016."
   ]
  },
  {
   "cell_type": "code",
   "execution_count": 30,
   "metadata": {
    "collapsed": false
   },
   "outputs": [
    {
     "name": "stdout",
     "output_type": "stream",
     "text": [
      "Median Time for reviewing in Nova from 2011 to 2015: 125.098333 hours\n",
      "Quantiles: (time reported in seconds) \n",
      "      time2close\n",
      "0.25     79349.5\n",
      "0.50    450354.0\n",
      "0.75   1655789.0\n"
     ]
    }
   ],
   "source": [
    "# Median time and quantiles in Nova from 2011 to 2015\n",
    "print \"Median Time for reviewing in Nova from 2011 to 2015: %f hours\" % (data_nova_df.median()/3600.0)\n",
    "print \"Quantiles: (time reported in seconds) \"\n",
    "print data_nova_df.quantile([0.25, 0.5, 0.75])"
   ]
  },
  {
   "cell_type": "markdown",
   "metadata": {},
   "source": [
    "## Year 2015"
   ]
  },
  {
   "cell_type": "code",
   "execution_count": 17,
   "metadata": {
    "collapsed": false
   },
   "outputs": [],
   "source": [
    "# review time in Nova for year 2015\n",
    "nova_review_time_2015 = data_nova_df[(data_nova_df[\"gerrit_closing_date\"] >= '2015-01-01') & (data_nova_df[\"gerrit_closing_date\"] <= '2016-01-01')];\n",
    "# nova_review_time_2015"
   ]
  },
  {
   "cell_type": "markdown",
   "metadata": {},
   "source": [
    "3790 fixes were merged in Nova during 2015"
   ]
  },
  {
   "cell_type": "code",
   "execution_count": 18,
   "metadata": {
    "collapsed": false
   },
   "outputs": [
    {
     "name": "stdout",
     "output_type": "stream",
     "text": [
      "Median Time for closing a ticket: 265.731667 hours\n",
      "Quantiles: (time reported in seconds) \n",
      "      time2close\n",
      "0.25   213534.50\n",
      "0.50   956634.00\n",
      "0.75  3337771.75\n"
     ]
    }
   ],
   "source": [
    "# Median time and quantiles for Nova 2015\n",
    "print \"Median Time for reviewing during 2015: %f hours\" % (nova_review_time_2015.median()/3600.0)\n",
    "print \"Quantiles: (time reported in seconds) \"\n",
    "print nova_review_time_2015.quantile([0.25, 0.5, 0.75])"
   ]
  },
  {
   "cell_type": "markdown",
   "metadata": {},
   "source": [
    "## Year 2014"
   ]
  },
  {
   "cell_type": "code",
   "execution_count": 21,
   "metadata": {
    "collapsed": false
   },
   "outputs": [],
   "source": [
    "# review time in Nova for year 2014\n",
    "nova_review_time_2014 = data_nova_df[(data_nova_df[\"gerrit_closing_date\"] >= '2014-01-01') & (data_nova_df[\"gerrit_closing_date\"] <= '2015-01-01')];\n",
    "#nova_review_time_2014"
   ]
  },
  {
   "cell_type": "markdown",
   "metadata": {},
   "source": [
    "4143 fixes have been merged in Nova during 2014"
   ]
  },
  {
   "cell_type": "code",
   "execution_count": 22,
   "metadata": {
    "collapsed": false
   },
   "outputs": [
    {
     "name": "stdout",
     "output_type": "stream",
     "text": [
      "Median Time for closing a ticket: 264.238056 hours\n",
      "Quantiles: (time reported in seconds) \n",
      "      time2close\n",
      "0.25    244560.0\n",
      "0.50    951257.0\n",
      "0.75   2955962.5\n"
     ]
    }
   ],
   "source": [
    "# Median time and quantiles for Nova 2014\n",
    "print \"Median Time for reviewing during 2014: %f hours\" % (nova_review_time_2014.median()/3600.0)\n",
    "print \"Quantiles: (time reported in seconds) \"\n",
    "print nova_review_time_2014.quantile([0.25, 0.5, 0.75])"
   ]
  },
  {
   "cell_type": "markdown",
   "metadata": {},
   "source": [
    "## Year 2013"
   ]
  },
  {
   "cell_type": "code",
   "execution_count": 25,
   "metadata": {
    "collapsed": false
   },
   "outputs": [],
   "source": [
    "# review time in Nova for year 2013\n",
    "nova_review_time_2013 = data_nova_df[(data_nova_df[\"gerrit_closing_date\"] >= '2013-01-01') & (data_nova_df[\"gerrit_closing_date\"] <= '2014-01-01')];\n",
    "#nova_review_time_2013"
   ]
  },
  {
   "cell_type": "markdown",
   "metadata": {},
   "source": [
    "4155 fixes have been merged in Nova during 2013"
   ]
  },
  {
   "cell_type": "code",
   "execution_count": 26,
   "metadata": {
    "collapsed": false
   },
   "outputs": [
    {
     "name": "stdout",
     "output_type": "stream",
     "text": [
      "Median Time for reviewing during 2013: 131.866111 hours\n",
      "Quantiles: (time reported in seconds) \n",
      "      time2close\n",
      "0.25     93782.5\n",
      "0.50    474718.0\n",
      "0.75   1269235.0\n"
     ]
    }
   ],
   "source": [
    "# Median time and quantiles for Nova 2013\n",
    "print \"Median Time for reviewing during 2013: %f hours\" % (nova_review_time_2013.median()/3600.0)\n",
    "print \"Quantiles: (time reported in seconds) \"\n",
    "print nova_review_time_2013.quantile([0.25, 0.5, 0.75])"
   ]
  },
  {
   "cell_type": "markdown",
   "metadata": {},
   "source": [
    "## Year 2012"
   ]
  },
  {
   "cell_type": "code",
   "execution_count": 28,
   "metadata": {
    "collapsed": false
   },
   "outputs": [],
   "source": [
    "# review time in Nova for year 2012\n",
    "nova_review_time_2012 = data_nova_df[(data_nova_df[\"gerrit_closing_date\"] >= '2012-01-01') & (data_nova_df[\"gerrit_closing_date\"] <= '2013-01-01')];\n",
    "#nova_review_time_2012"
   ]
  },
  {
   "cell_type": "markdown",
   "metadata": {},
   "source": [
    "3454 fixes were merged in Nova during 2012"
   ]
  },
  {
   "cell_type": "code",
   "execution_count": 29,
   "metadata": {
    "collapsed": false
   },
   "outputs": [
    {
     "name": "stdout",
     "output_type": "stream",
     "text": [
      "Median Time for reviewing during 2012: 24.404167 hours\n",
      "Quantiles: (time reported in seconds) \n",
      "      time2close\n",
      "0.25     9062.25\n",
      "0.50    87855.00\n",
      "0.75   356493.00\n"
     ]
    }
   ],
   "source": [
    "# Median time and quantiles for Nova 2012\n",
    "print \"Median Time for reviewing during 2012: %f hours\" % (nova_review_time_2012.median()/3600.0)\n",
    "print \"Quantiles: (time reported in seconds) \"\n",
    "print nova_review_time_2012.quantile([0.25, 0.5, 0.75])"
   ]
  },
  {
   "cell_type": "markdown",
   "metadata": {},
   "source": [
    "## Year 2011"
   ]
  },
  {
   "cell_type": "code",
   "execution_count": 132,
   "metadata": {
    "collapsed": false
   },
   "outputs": [],
   "source": [
    "# review time in Nova for year 2011\n",
    "nova_review_time_2011 = data_nova_df[(data_nova_df[\"gerrit_closing_date\"] >= '2011-01-01') & (data_nova_df[\"gerrit_closing_date\"] <= '2012-01-01')];\n",
    "# nova_review_time_2011"
   ]
  },
  {
   "cell_type": "markdown",
   "metadata": {},
   "source": [
    "545 fixes merged in Nova during 2011"
   ]
  },
  {
   "cell_type": "code",
   "execution_count": 133,
   "metadata": {
    "collapsed": false
   },
   "outputs": [
    {
     "name": "stdout",
     "output_type": "stream",
     "text": [
      "Median Time for reviewing during 2011: 21.650833 hours\n",
      "Quantiles: (time reported in seconds) \n",
      "      time2close\n",
      "0.25        5992\n",
      "0.50       77943\n",
      "0.75      321790\n"
     ]
    }
   ],
   "source": [
    "# Median time and quantiles for Nova 2011\n",
    "print \"Median Time for reviewing during 2011: %f hours\" % (nova_review_time_2011.median()/3600.0)\n",
    "print \"Quantiles: (time reported in seconds) \"\n",
    "print nova_review_time_2011.quantile([0.25, 0.5, 0.75])"
   ]
  },
  {
   "cell_type": "markdown",
   "metadata": {},
   "source": [
    "# Time to review in Swift"
   ]
  },
  {
   "cell_type": "code",
   "execution_count": 39,
   "metadata": {
    "collapsed": true
   },
   "outputs": [],
   "source": [
    "query_swift = \"\"\" select * from review_time \n",
    "where \n",
    "gerrit_tracker like '%swift%' and \n",
    "current_status = 'MERGED' \"\"\""
   ]
  },
  {
   "cell_type": "code",
   "execution_count": 40,
   "metadata": {
    "collapsed": true
   },
   "outputs": [],
   "source": [
    "data_swift = execute_query(cursor,query_swift)"
   ]
  },
  {
   "cell_type": "code",
   "execution_count": 41,
   "metadata": {
    "collapsed": true
   },
   "outputs": [],
   "source": [
    "data_swift_list = list(data_swift)"
   ]
  },
  {
   "cell_type": "code",
   "execution_count": 42,
   "metadata": {
    "collapsed": false
   },
   "outputs": [
    {
     "data": {
      "text/plain": [
       "['gerrit_issue',\n",
       " 'gerrit_opening_date',\n",
       " 'gerrit_closing_date',\n",
       " 'time2close',\n",
       " 'gerrit_tracker',\n",
       " 'current_status']"
      ]
     },
     "execution_count": 42,
     "metadata": {},
     "output_type": "execute_result"
    }
   ],
   "source": [
    "data_swift_df = pandas.DataFrame(data_swift_list, columns=[\"gerrit_issue\", \"gerrit_opening_date\", \"gerrit_closing_date\", \"time2close\", \"gerrit_tracker\", \"current_status\"])\n",
    "data_swift_df.columns.values.tolist()"
   ]
  },
  {
   "cell_type": "code",
   "execution_count": 44,
   "metadata": {
    "collapsed": false
   },
   "outputs": [],
   "source": [
    "# data_swift_df"
   ]
  },
  {
   "cell_type": "markdown",
   "metadata": {},
   "source": [
    "### 2972 fixes have been merged in Swift project from 2011 to 2015 and January 2016."
   ]
  },
  {
   "cell_type": "code",
   "execution_count": 126,
   "metadata": {
    "collapsed": false
   },
   "outputs": [
    {
     "name": "stdout",
     "output_type": "stream",
     "text": [
      "Median Time for reviewing in Swift from 2011 to 2015: 67.676667 hours\n",
      "Quantiles: (time reported in seconds) \n",
      "      time2close\n",
      "0.25    31659.75\n",
      "0.50   243636.00\n",
      "0.75   991619.50\n"
     ]
    }
   ],
   "source": [
    "# Median time and quantiles in Swift from 2011 to 2015\n",
    "print \"Median Time for reviewing in Swift from 2011 to 2015: %f hours\" % (data_swift_df.median()/3600.0)\n",
    "print \"Quantiles: (time reported in seconds) \"\n",
    "print data_swift_df.quantile([0.25, 0.5, 0.75])"
   ]
  },
  {
   "cell_type": "markdown",
   "metadata": {},
   "source": [
    "## Year 2015"
   ]
  },
  {
   "cell_type": "code",
   "execution_count": 47,
   "metadata": {
    "collapsed": false
   },
   "outputs": [],
   "source": [
    "# review time in Swift for year 2015\n",
    "swift_review_time_2015 = data_swift_df[(data_swift_df[\"gerrit_closing_date\"] >= '2015-01-01') & (data_swift_df[\"gerrit_closing_date\"] <= '2016-01-01')];\n",
    "#swift_review_time_2015"
   ]
  },
  {
   "cell_type": "markdown",
   "metadata": {},
   "source": [
    "921 fixes were merged in Swift during 2015"
   ]
  },
  {
   "cell_type": "code",
   "execution_count": 48,
   "metadata": {
    "collapsed": false
   },
   "outputs": [
    {
     "name": "stdout",
     "output_type": "stream",
     "text": [
      "Median Time for reviewing during 2015: 99.542500 hours\n",
      "Quantiles: (time reported in seconds) \n",
      "      time2close\n",
      "0.25       54818\n",
      "0.50      358353\n",
      "0.75     1662459\n"
     ]
    }
   ],
   "source": [
    "# Median time and quantiles for Swift 2015\n",
    "print \"Median Time for reviewing during 2015: %f hours\" % (swift_review_time_2015.median()/3600.0)\n",
    "print \"Quantiles: (time reported in seconds) \"\n",
    "print swift_review_time_2015.quantile([0.25, 0.5, 0.75])"
   ]
  },
  {
   "cell_type": "markdown",
   "metadata": {},
   "source": [
    "## Year 2014"
   ]
  },
  {
   "cell_type": "code",
   "execution_count": 50,
   "metadata": {
    "collapsed": false
   },
   "outputs": [],
   "source": [
    "# review time in Swift for year 2014\n",
    "swift_review_time_2014 = data_swift_df[(data_swift_df[\"gerrit_closing_date\"] >= '2014-01-01') & (data_swift_df[\"gerrit_closing_date\"] <= '2015-01-01')];\n",
    "#swift_review_time_2014"
   ]
  },
  {
   "cell_type": "markdown",
   "metadata": {},
   "source": [
    "760 fixes have been merged in Swift during 2014"
   ]
  },
  {
   "cell_type": "code",
   "execution_count": 51,
   "metadata": {
    "collapsed": false
   },
   "outputs": [
    {
     "name": "stdout",
     "output_type": "stream",
     "text": [
      "Median Time for reviewing during 2014: 77.794444 hours\n",
      "Quantiles: (time reported in seconds) \n",
      "      time2close\n",
      "0.25    46326.25\n",
      "0.50   280060.00\n",
      "0.75  1180614.00\n"
     ]
    }
   ],
   "source": [
    "# Median time and quantiles for Swift 2014\n",
    "print \"Median Time for reviewing during 2014: %f hours\" % (swift_review_time_2014.median()/3600.0)\n",
    "print \"Quantiles: (time reported in seconds) \"\n",
    "print swift_review_time_2014.quantile([0.25, 0.5, 0.75])"
   ]
  },
  {
   "cell_type": "markdown",
   "metadata": {},
   "source": [
    "## Year 2013"
   ]
  },
  {
   "cell_type": "code",
   "execution_count": 53,
   "metadata": {
    "collapsed": false
   },
   "outputs": [],
   "source": [
    "# review time in Swift for year 2013\n",
    "swift_review_time_2013 = data_swift_df[(data_swift_df[\"gerrit_closing_date\"] >= '2013-01-01') & (data_swift_df[\"gerrit_closing_date\"] <= '2014-01-01')];\n",
    "#swift_review_time_2013"
   ]
  },
  {
   "cell_type": "markdown",
   "metadata": {},
   "source": [
    "780 fixes have been merged in Swift during 2013"
   ]
  },
  {
   "cell_type": "code",
   "execution_count": 54,
   "metadata": {
    "collapsed": false
   },
   "outputs": [
    {
     "name": "stdout",
     "output_type": "stream",
     "text": [
      "Median Time for reviewing during 2013: 60.196667 hours\n",
      "Quantiles: (time reported in seconds) \n",
      "      time2close\n",
      "0.25     27134.5\n",
      "0.50    216708.0\n",
      "0.75    790217.0\n"
     ]
    }
   ],
   "source": [
    "# Median time and quantiles for Swift 2013\n",
    "print \"Median Time for reviewing during 2013: %f hours\" % (swift_review_time_2013.median()/3600.0)\n",
    "print \"Quantiles: (time reported in seconds) \"\n",
    "print swift_review_time_2013.quantile([0.25, 0.5, 0.75])"
   ]
  },
  {
   "cell_type": "markdown",
   "metadata": {},
   "source": [
    "## Year 2012"
   ]
  },
  {
   "cell_type": "code",
   "execution_count": 56,
   "metadata": {
    "collapsed": false
   },
   "outputs": [],
   "source": [
    "# review time in Swift for year 2012\n",
    "swift_review_time_2012 = data_swift_df[(data_swift_df[\"gerrit_closing_date\"] >= '2012-01-01') & (data_swift_df[\"gerrit_closing_date\"] <= '2013-01-01')];\n",
    "#swift_review_time_2012"
   ]
  },
  {
   "cell_type": "markdown",
   "metadata": {},
   "source": [
    "449 fixes were merged in Swift during 2012"
   ]
  },
  {
   "cell_type": "code",
   "execution_count": 57,
   "metadata": {
    "collapsed": false
   },
   "outputs": [
    {
     "name": "stdout",
     "output_type": "stream",
     "text": [
      "Median Time for reviewing during 2012: 23.180000 hours\n",
      "Quantiles: (time reported in seconds) \n",
      "      time2close\n",
      "0.25        4082\n",
      "0.50       83448\n",
      "0.75      461055\n"
     ]
    }
   ],
   "source": [
    "# Median time and quantiles for Swift 2012\n",
    "print \"Median Time for reviewing during 2012: %f hours\" % (swift_review_time_2012.median()/3600.0)\n",
    "print \"Quantiles: (time reported in seconds) \"\n",
    "print swift_review_time_2012.quantile([0.25, 0.5, 0.75])"
   ]
  },
  {
   "cell_type": "markdown",
   "metadata": {},
   "source": [
    "## Year 2011"
   ]
  },
  {
   "cell_type": "code",
   "execution_count": 129,
   "metadata": {
    "collapsed": false
   },
   "outputs": [],
   "source": [
    "# review time in Swift for year 2011\n",
    "swift_review_time_2011 = data_swift_df[(data_swift_df[\"gerrit_closing_date\"] >= '2011-01-01') & (data_swift_df[\"gerrit_closing_date\"] <= '2012-01-01')];\n",
    "# swift_review_time_2011"
   ]
  },
  {
   "cell_type": "markdown",
   "metadata": {},
   "source": [
    "39 fixes merged in Swift during 2011"
   ]
  },
  {
   "cell_type": "code",
   "execution_count": 130,
   "metadata": {
    "collapsed": false
   },
   "outputs": [
    {
     "name": "stdout",
     "output_type": "stream",
     "text": [
      "Median Time for reviewing during 2011: 24.321111 hours\n",
      "Quantiles: (time reported in seconds) \n",
      "      time2close\n",
      "0.25           0\n",
      "0.50       87556\n",
      "0.75      559978\n"
     ]
    }
   ],
   "source": [
    "# Median time and quantiles for Swift 2011\n",
    "print \"Median Time for reviewing during 2011: %f hours\" % (swift_review_time_2011.median()/3600.0)\n",
    "print \"Quantiles: (time reported in seconds) \"\n",
    "print swift_review_time_2011.quantile([0.25, 0.5, 0.75])"
   ]
  },
  {
   "cell_type": "markdown",
   "metadata": {},
   "source": [
    "# Time to review in Cinder"
   ]
  },
  {
   "cell_type": "code",
   "execution_count": 62,
   "metadata": {
    "collapsed": true
   },
   "outputs": [],
   "source": [
    "query_cinder = \"\"\" select * from review_time \n",
    "where \n",
    "gerrit_tracker like '%cinder%' and \n",
    "current_status = 'MERGED' \"\"\""
   ]
  },
  {
   "cell_type": "code",
   "execution_count": 63,
   "metadata": {
    "collapsed": true
   },
   "outputs": [],
   "source": [
    "data_cinder = execute_query(cursor,query_cinder)"
   ]
  },
  {
   "cell_type": "code",
   "execution_count": 64,
   "metadata": {
    "collapsed": true
   },
   "outputs": [],
   "source": [
    "data_cinder_list = list(data_cinder)"
   ]
  },
  {
   "cell_type": "code",
   "execution_count": 65,
   "metadata": {
    "collapsed": false
   },
   "outputs": [
    {
     "data": {
      "text/plain": [
       "['gerrit_issue',\n",
       " 'gerrit_opening_date',\n",
       " 'gerrit_closing_date',\n",
       " 'time2close',\n",
       " 'gerrit_tracker',\n",
       " 'current_status']"
      ]
     },
     "execution_count": 65,
     "metadata": {},
     "output_type": "execute_result"
    }
   ],
   "source": [
    "data_cinder_df = pandas.DataFrame(data_cinder_list, columns=[\"gerrit_issue\", \"gerrit_opening_date\", \"gerrit_closing_date\", \"time2close\", \"gerrit_tracker\", \"current_status\"])\n",
    "data_cinder_df.columns.values.tolist()"
   ]
  },
  {
   "cell_type": "code",
   "execution_count": 67,
   "metadata": {
    "collapsed": false
   },
   "outputs": [],
   "source": [
    "# data_cinder_df"
   ]
  },
  {
   "cell_type": "markdown",
   "metadata": {},
   "source": [
    "### 5400 fixes have been merged in Cinder project from 2011 to 2015 and January 2016."
   ]
  },
  {
   "cell_type": "code",
   "execution_count": 68,
   "metadata": {
    "collapsed": false,
    "scrolled": true
   },
   "outputs": [
    {
     "name": "stdout",
     "output_type": "stream",
     "text": [
      "Median Time for reviewing in Cinder from 2011 to 2015: 93.416389 hours\n",
      "Quantiles: (time reported in seconds) \n",
      "      time2close\n",
      "0.25    68538.25\n",
      "0.50   336299.00\n",
      "0.75  1169287.00\n"
     ]
    }
   ],
   "source": [
    "# Median time and quantiles in Cinder from 2011 to 2015\n",
    "print \"Median Time for reviewing in Cinder from 2011 to 2015: %f hours\" % (data_cinder_df.median()/3600.0)\n",
    "print \"Quantiles: (time reported in seconds) \"\n",
    "print data_cinder_df.quantile([0.25, 0.5, 0.75])"
   ]
  },
  {
   "cell_type": "markdown",
   "metadata": {},
   "source": [
    "## Year 2015"
   ]
  },
  {
   "cell_type": "code",
   "execution_count": 70,
   "metadata": {
    "collapsed": false
   },
   "outputs": [],
   "source": [
    "# review time in Cinder for year 2015\n",
    "cinder_review_time_2015 = data_cinder_df[(data_cinder_df[\"gerrit_closing_date\"] >= '2015-01-01') & (data_cinder_df[\"gerrit_closing_date\"] <= '2016-01-01')];\n",
    "# cinder_review_time_2015"
   ]
  },
  {
   "cell_type": "markdown",
   "metadata": {},
   "source": [
    "2174 fixes were merged in Cinder during 2015"
   ]
  },
  {
   "cell_type": "code",
   "execution_count": 71,
   "metadata": {
    "collapsed": false
   },
   "outputs": [
    {
     "name": "stdout",
     "output_type": "stream",
     "text": [
      "Median Time for reviewing during 2015: 138.573056 hours\n",
      "Quantiles: (time reported in seconds) \n",
      "      time2close\n",
      "0.25    90438.75\n",
      "0.50   498863.00\n",
      "0.75  1766160.75\n"
     ]
    }
   ],
   "source": [
    "# Median time and quantiles for Cinder 2015\n",
    "print \"Median Time for reviewing during 2015: %f hours\" % (cinder_review_time_2015.median()/3600.0)\n",
    "print \"Quantiles: (time reported in seconds) \"\n",
    "print cinder_review_time_2015.quantile([0.25, 0.5, 0.75])"
   ]
  },
  {
   "cell_type": "markdown",
   "metadata": {},
   "source": [
    "## Year 2014"
   ]
  },
  {
   "cell_type": "code",
   "execution_count": 73,
   "metadata": {
    "collapsed": false
   },
   "outputs": [],
   "source": [
    "# review time in Cinder for year 2014\n",
    "cinder_review_time_2014 = data_cinder_df[(data_cinder_df[\"gerrit_closing_date\"] >= '2014-01-01') & (data_cinder_df[\"gerrit_closing_date\"] <= '2015-01-01')];\n",
    "# cinder_review_time_2014"
   ]
  },
  {
   "cell_type": "markdown",
   "metadata": {},
   "source": [
    "1456 fixes have been merged in Cinder during 2014"
   ]
  },
  {
   "cell_type": "code",
   "execution_count": 74,
   "metadata": {
    "collapsed": false
   },
   "outputs": [
    {
     "name": "stdout",
     "output_type": "stream",
     "text": [
      "Median Time for reviewing during 2014: 135.230694 hours\n",
      "Quantiles: (time reported in seconds) \n",
      "      time2close\n",
      "0.25   102898.25\n",
      "0.50   486830.50\n",
      "0.75  1729614.25\n"
     ]
    }
   ],
   "source": [
    "# Median time and quantiles for Cinder 2014\n",
    "print \"Median Time for reviewing during 2014: %f hours\" % (cinder_review_time_2014.median()/3600.0)\n",
    "print \"Quantiles: (time reported in seconds) \"\n",
    "print cinder_review_time_2014.quantile([0.25, 0.5, 0.75])"
   ]
  },
  {
   "cell_type": "markdown",
   "metadata": {},
   "source": [
    "## Year 2013"
   ]
  },
  {
   "cell_type": "code",
   "execution_count": 77,
   "metadata": {
    "collapsed": false
   },
   "outputs": [],
   "source": [
    "# review time in Cinder for year 2013\n",
    "cinder_review_time_2013 = data_cinder_df[(data_cinder_df[\"gerrit_closing_date\"] >= '2013-01-01') & (data_cinder_df[\"gerrit_closing_date\"] <= '2014-01-01')];\n",
    "# cinder_review_time_2013"
   ]
  },
  {
   "cell_type": "markdown",
   "metadata": {},
   "source": [
    "1411 fixes have been merged in Swift during 2013"
   ]
  },
  {
   "cell_type": "code",
   "execution_count": 78,
   "metadata": {
    "collapsed": false
   },
   "outputs": [
    {
     "name": "stdout",
     "output_type": "stream",
     "text": [
      "Median Time for reviewing during 2013: 47.913056 hours\n",
      "Quantiles: (time reported in seconds) \n",
      "      time2close\n",
      "0.25     37409.5\n",
      "0.50    172487.0\n",
      "0.75    540118.5\n"
     ]
    }
   ],
   "source": [
    "# Median time and quantiles for Cinder 2013\n",
    "print \"Median Time for reviewing during 2013: %f hours\" % (cinder_review_time_2013.median()/3600.0)\n",
    "print \"Quantiles: (time reported in seconds) \"\n",
    "print cinder_review_time_2013.quantile([0.25, 0.5, 0.75])"
   ]
  },
  {
   "cell_type": "markdown",
   "metadata": {},
   "source": [
    "## Year 2012"
   ]
  },
  {
   "cell_type": "code",
   "execution_count": 81,
   "metadata": {
    "collapsed": false
   },
   "outputs": [],
   "source": [
    "# review time in Cinder for year 2012\n",
    "cinder_review_time_2012 = data_cinder_df[(data_cinder_df[\"gerrit_closing_date\"] >= '2012-01-01') & (data_cinder_df[\"gerrit_closing_date\"] <= '2013-01-01')];\n",
    "# cinder_review_time_2012"
   ]
  },
  {
   "cell_type": "markdown",
   "metadata": {},
   "source": [
    "329 fixes were merged in Cinder during 2012"
   ]
  },
  {
   "cell_type": "code",
   "execution_count": 93,
   "metadata": {
    "collapsed": false
   },
   "outputs": [
    {
     "name": "stdout",
     "output_type": "stream",
     "text": [
      "Median Time for reviewing during 2012: 25.998611 hours\n",
      "Quantiles: (time reported in seconds) \n",
      "      time2close\n",
      "0.25       14355\n",
      "0.50       93595\n",
      "0.75      316667\n"
     ]
    }
   ],
   "source": [
    "# Median time and quantiles for Cinder 2012\n",
    "print \"Median Time for reviewing during 2012: %f hours\" % (cinder_review_time_2012.median()/3600.0)\n",
    "print \"Quantiles: (time reported in seconds) \"\n",
    "print cinder_review_time_2012.quantile([0.25, 0.5, 0.75])"
   ]
  },
  {
   "cell_type": "markdown",
   "metadata": {},
   "source": [
    "## Year 2011"
   ]
  },
  {
   "cell_type": "code",
   "execution_count": 134,
   "metadata": {
    "collapsed": false
   },
   "outputs": [
    {
     "data": {
      "text/html": [
       "<div>\n",
       "<table border=\"1\" class=\"dataframe\">\n",
       "  <thead>\n",
       "    <tr style=\"text-align: right;\">\n",
       "      <th></th>\n",
       "      <th>gerrit_issue</th>\n",
       "      <th>gerrit_opening_date</th>\n",
       "      <th>gerrit_closing_date</th>\n",
       "      <th>time2close</th>\n",
       "      <th>gerrit_tracker</th>\n",
       "      <th>current_status</th>\n",
       "    </tr>\n",
       "  </thead>\n",
       "  <tbody>\n",
       "  </tbody>\n",
       "</table>\n",
       "</div>"
      ],
      "text/plain": [
       "Empty DataFrame\n",
       "Columns: [gerrit_issue, gerrit_opening_date, gerrit_closing_date, time2close, gerrit_tracker, current_status]\n",
       "Index: []"
      ]
     },
     "execution_count": 134,
     "metadata": {},
     "output_type": "execute_result"
    }
   ],
   "source": [
    "# review time in Cinder for year 2011\n",
    "cinder_review_time_2011 = data_cinder_df[(data_cinder_df[\"gerrit_closing_date\"] >= '2011-01-01') & (data_cinder_df[\"gerrit_closing_date\"] <= '2012-01-01')];\n",
    "cinder_review_time_2011"
   ]
  },
  {
   "cell_type": "markdown",
   "metadata": {},
   "source": [
    "no fixes in Cinder during 2011"
   ]
  },
  {
   "cell_type": "markdown",
   "metadata": {},
   "source": [
    "# Time to review in Neutron"
   ]
  },
  {
   "cell_type": "code",
   "execution_count": 148,
   "metadata": {
    "collapsed": true
   },
   "outputs": [],
   "source": [
    "query_neutron = \"\"\" select * from review_time \n",
    "where \n",
    "gerrit_tracker like '%neutron%' and \n",
    "current_status = 'MERGED' \"\"\""
   ]
  },
  {
   "cell_type": "code",
   "execution_count": 149,
   "metadata": {
    "collapsed": true
   },
   "outputs": [],
   "source": [
    "data_neutron = execute_query(cursor,query_neutron)"
   ]
  },
  {
   "cell_type": "code",
   "execution_count": 150,
   "metadata": {
    "collapsed": true
   },
   "outputs": [],
   "source": [
    "data_neutron_list = list(data_neutron)"
   ]
  },
  {
   "cell_type": "code",
   "execution_count": 151,
   "metadata": {
    "collapsed": false
   },
   "outputs": [
    {
     "data": {
      "text/plain": [
       "['gerrit_issue',\n",
       " 'gerrit_opening_date',\n",
       " 'gerrit_closing_date',\n",
       " 'time2close',\n",
       " 'gerrit_tracker',\n",
       " 'current_status']"
      ]
     },
     "execution_count": 151,
     "metadata": {},
     "output_type": "execute_result"
    }
   ],
   "source": [
    "data_neutron_df = pandas.DataFrame(data_neutron_list, columns=[\"gerrit_issue\", \"gerrit_opening_date\", \"gerrit_closing_date\", \"time2close\", \"gerrit_tracker\", \"current_status\"])\n",
    "data_neutron_df.columns.values.tolist()"
   ]
  },
  {
   "cell_type": "code",
   "execution_count": 109,
   "metadata": {
    "collapsed": false
   },
   "outputs": [],
   "source": [
    "# data_neutron_df"
   ]
  },
  {
   "cell_type": "markdown",
   "metadata": {},
   "source": [
    "### 9664 fixes have been merged in Neutron project from 2011 to 2015 and January 2016."
   ]
  },
  {
   "cell_type": "code",
   "execution_count": 152,
   "metadata": {
    "collapsed": false,
    "scrolled": true
   },
   "outputs": [
    {
     "name": "stdout",
     "output_type": "stream",
     "text": [
      "Median Time for reviewing in Neutron from 2011 to 2015: 86.340139 hours\n",
      "Quantiles: (time reported in seconds) \n",
      "      time2close\n",
      "0.25    60051.25\n",
      "0.50   310824.50\n",
      "0.75  1149071.00\n"
     ]
    }
   ],
   "source": [
    "# Median time and quantiles in Neutron from 2011 to 2015\n",
    "print \"Median Time for reviewing in Neutron from 2011 to 2015: %f hours\" % (data_neutron_df.median()/3600.0)\n",
    "print \"Quantiles: (time reported in seconds) \"\n",
    "print data_neutron_df.quantile([0.25, 0.5, 0.75])"
   ]
  },
  {
   "cell_type": "markdown",
   "metadata": {},
   "source": [
    "## Year 2015"
   ]
  },
  {
   "cell_type": "code",
   "execution_count": 112,
   "metadata": {
    "collapsed": false
   },
   "outputs": [],
   "source": [
    "# review time in Neutron for year 2015\n",
    "neutron_review_time_2015 = data_neutron_df[(data_neutron_df[\"gerrit_closing_date\"] >= '2015-01-01') & (data_neutron_df[\"gerrit_closing_date\"] <= '2016-01-01')];\n",
    "# neutron_review_time_2015"
   ]
  },
  {
   "cell_type": "markdown",
   "metadata": {},
   "source": [
    "4317 fixes were merged in Neutron during 2015"
   ]
  },
  {
   "cell_type": "code",
   "execution_count": 113,
   "metadata": {
    "collapsed": false
   },
   "outputs": [
    {
     "name": "stdout",
     "output_type": "stream",
     "text": [
      "Median Time for reviewing during 2015: 99.511389 hours\n",
      "Quantiles: (time reported in seconds) \n",
      "      time2close\n",
      "0.25       79929\n",
      "0.50      358241\n",
      "0.75     1304338\n"
     ]
    }
   ],
   "source": [
    "# Median time and quantiles for Neutron 2015\n",
    "print \"Median Time for reviewing during 2015: %f hours\" % (neutron_review_time_2015.median()/3600.0)\n",
    "print \"Quantiles: (time reported in seconds) \"\n",
    "print neutron_review_time_2015.quantile([0.25, 0.5, 0.75])"
   ]
  },
  {
   "cell_type": "markdown",
   "metadata": {},
   "source": [
    "## Year 2014"
   ]
  },
  {
   "cell_type": "code",
   "execution_count": 115,
   "metadata": {
    "collapsed": false
   },
   "outputs": [],
   "source": [
    "# review time in Neutron for year 2014\n",
    "neutron_review_time_2014 = data_neutron_df[(data_neutron_df[\"gerrit_closing_date\"] >= '2014-01-01') & (data_neutron_df[\"gerrit_closing_date\"] <= '2015-01-01')];\n",
    "#neutron_review_time_2014"
   ]
  },
  {
   "cell_type": "markdown",
   "metadata": {},
   "source": [
    "2660 fixes have been merged in Neutron during 2014"
   ]
  },
  {
   "cell_type": "code",
   "execution_count": 116,
   "metadata": {
    "collapsed": false
   },
   "outputs": [
    {
     "name": "stdout",
     "output_type": "stream",
     "text": [
      "Median Time for reviewing during 2014: 150.697361 hours\n",
      "Quantiles: (time reported in seconds) \n",
      "      time2close\n",
      "0.25   114632.00\n",
      "0.50   542510.50\n",
      "0.75  1759997.25\n"
     ]
    }
   ],
   "source": [
    "# Median time and quantiles for Neutron 2014\n",
    "print \"Median Time for reviewing during 2014: %f hours\" % (neutron_review_time_2014.median()/3600.0)\n",
    "print \"Quantiles: (time reported in seconds) \"\n",
    "print neutron_review_time_2014.quantile([0.25, 0.5, 0.75])"
   ]
  },
  {
   "cell_type": "markdown",
   "metadata": {},
   "source": [
    "## Year 2013"
   ]
  },
  {
   "cell_type": "code",
   "execution_count": 138,
   "metadata": {
    "collapsed": false
   },
   "outputs": [],
   "source": [
    "# review time in Neutron for year 2013\n",
    "neutron_review_time_2013 = data_neutron_df[(data_neutron_df[\"gerrit_closing_date\"] >= '2013-01-01') & (data_neutron_df[\"gerrit_closing_date\"] <= '2014-01-01')];\n",
    "# neutron_review_time_2013"
   ]
  },
  {
   "cell_type": "markdown",
   "metadata": {},
   "source": [
    "1840 fixes have been merged in Neutron during 2013"
   ]
  },
  {
   "cell_type": "code",
   "execution_count": 139,
   "metadata": {
    "collapsed": false
   },
   "outputs": [
    {
     "name": "stdout",
     "output_type": "stream",
     "text": [
      "Median Time for reviewing during 2013: 35.865972 hours\n",
      "Quantiles: (time reported in seconds) \n",
      "      time2close\n",
      "0.25    22638.75\n",
      "0.50   129117.50\n",
      "0.75   622084.75\n"
     ]
    }
   ],
   "source": [
    "# Median time and quantiles for Neutron 2013\n",
    "print \"Median Time for reviewing during 2013: %f hours\" % (neutron_review_time_2013.median()/3600.0)\n",
    "print \"Quantiles: (time reported in seconds) \"\n",
    "print neutron_review_time_2013.quantile([0.25, 0.5, 0.75])"
   ]
  },
  {
   "cell_type": "markdown",
   "metadata": {},
   "source": [
    "## Year 2012"
   ]
  },
  {
   "cell_type": "code",
   "execution_count": 140,
   "metadata": {
    "collapsed": false
   },
   "outputs": [],
   "source": [
    "# review time in Neutron for year 2012\n",
    "neutron_review_time_2012 = data_neutron_df[(data_neutron_df[\"gerrit_closing_date\"] >= '2012-01-01') & (data_neutron_df[\"gerrit_closing_date\"] <= '2013-01-01')];\n",
    "# neutron_review_time_2012"
   ]
  },
  {
   "cell_type": "markdown",
   "metadata": {},
   "source": [
    "714 fixes were merged in Neutron during 2012"
   ]
  },
  {
   "cell_type": "code",
   "execution_count": 141,
   "metadata": {
    "collapsed": false
   },
   "outputs": [
    {
     "name": "stdout",
     "output_type": "stream",
     "text": [
      "Median Time for reviewing during 2012: 26.498472 hours\n",
      "Quantiles: (time reported in seconds) \n",
      "      time2close\n",
      "0.25    17768.75\n",
      "0.50    95394.50\n",
      "0.75   394471.50\n"
     ]
    }
   ],
   "source": [
    "# Median time and quantiles for Neutron 2012\n",
    "print \"Median Time for reviewing during 2012: %f hours\" % (neutron_review_time_2012.median()/3600.0)\n",
    "print \"Quantiles: (time reported in seconds) \"\n",
    "print neutron_review_time_2012.quantile([0.25, 0.5, 0.75])"
   ]
  },
  {
   "cell_type": "markdown",
   "metadata": {},
   "source": [
    "## Year 2011"
   ]
  },
  {
   "cell_type": "code",
   "execution_count": 137,
   "metadata": {
    "collapsed": false,
    "scrolled": true
   },
   "outputs": [],
   "source": [
    "# review time in Neutron for year 2011\n",
    "neutron_review_time_2011 = data_neutron_df[(data_neutron_df[\"gerrit_closing_date\"] >= '2011-01-01') & (data_neutron_df[\"gerrit_closing_date\"] <= '2012-01-01')];\n",
    "# neutron_review_time_2011"
   ]
  },
  {
   "cell_type": "markdown",
   "metadata": {},
   "source": [
    "52 fixes merged in Neutron during 2011"
   ]
  },
  {
   "cell_type": "code",
   "execution_count": 136,
   "metadata": {
    "collapsed": false
   },
   "outputs": [
    {
     "name": "stdout",
     "output_type": "stream",
     "text": [
      "Median Time for reviewing during 2011: 3.894028 hours\n",
      "Quantiles: (time reported in seconds) \n",
      "      time2close\n",
      "0.25     3703.25\n",
      "0.50    14018.50\n",
      "0.75   262560.50\n"
     ]
    }
   ],
   "source": [
    "## Median time and quantiles for Neutron 2011\n",
    "print \"Median Time for reviewing during 2011: %f hours\" % (neutron_review_time_2011.median()/3600.0)\n",
    "print \"Quantiles: (time reported in seconds) \"\n",
    "print neutron_review_time_2011.quantile([0.25, 0.5, 0.75])"
   ]
  },
  {
   "cell_type": "markdown",
   "metadata": {},
   "source": [
    "# Time to review in Horizon"
   ]
  },
  {
   "cell_type": "code",
   "execution_count": 143,
   "metadata": {
    "collapsed": true
   },
   "outputs": [],
   "source": [
    "query_horizon = \"\"\" select * from review_time \n",
    "where \n",
    "gerrit_tracker like '%horizon%' and \n",
    "current_status = 'MERGED' \"\"\""
   ]
  },
  {
   "cell_type": "code",
   "execution_count": 144,
   "metadata": {
    "collapsed": true
   },
   "outputs": [],
   "source": [
    "data_horizon = execute_query(cursor,query_horizon)"
   ]
  },
  {
   "cell_type": "code",
   "execution_count": 145,
   "metadata": {
    "collapsed": true
   },
   "outputs": [],
   "source": [
    "data_horizon_list = list(data_horizon)"
   ]
  },
  {
   "cell_type": "code",
   "execution_count": 155,
   "metadata": {
    "collapsed": false
   },
   "outputs": [
    {
     "data": {
      "text/plain": [
       "['gerrit_issue',\n",
       " 'gerrit_opening_date',\n",
       " 'gerrit_closing_date',\n",
       " 'time2close',\n",
       " 'gerrit_tracker',\n",
       " 'current_status']"
      ]
     },
     "execution_count": 155,
     "metadata": {},
     "output_type": "execute_result"
    }
   ],
   "source": [
    "data_horizon_df = pandas.DataFrame(data_horizon_list, columns=[\"gerrit_issue\", \"gerrit_opening_date\", \"gerrit_closing_date\", \"time2close\", \"gerrit_tracker\", \"current_status\"])\n",
    "data_horizon_df.columns.values.tolist()"
   ]
  },
  {
   "cell_type": "code",
   "execution_count": 154,
   "metadata": {
    "collapsed": false
   },
   "outputs": [],
   "source": [
    "# data_horizon_df"
   ]
  },
  {
   "cell_type": "markdown",
   "metadata": {},
   "source": [
    "### 5068 fixes have been merged in Horizon project from 2011 to 2015 and January 2016."
   ]
  },
  {
   "cell_type": "code",
   "execution_count": 156,
   "metadata": {
    "collapsed": false
   },
   "outputs": [
    {
     "name": "stdout",
     "output_type": "stream",
     "text": [
      "Median Time for reviewing in Horizon from 2011 to 2015: 67.850278 hours\n",
      "Quantiles: (time reported in seconds) \n",
      "      time2close\n",
      "0.25     39408.0\n",
      "0.50    244261.0\n",
      "0.75   1162897.5\n"
     ]
    }
   ],
   "source": [
    "# Median time and quantiles in Horizon from 2011 to 2015\n",
    "print \"Median Time for reviewing in Horizon from 2011 to 2015: %f hours\" % (data_horizon_df.median()/3600.0)\n",
    "print \"Quantiles: (time reported in seconds) \"\n",
    "print data_horizon_df.quantile([0.25, 0.5, 0.75])"
   ]
  },
  {
   "cell_type": "markdown",
   "metadata": {},
   "source": [
    "## Year 2015"
   ]
  },
  {
   "cell_type": "code",
   "execution_count": 158,
   "metadata": {
    "collapsed": false
   },
   "outputs": [],
   "source": [
    "# review time in Horizonfor year 2015\n",
    "horizon_review_time_2015 = data_horizon_df[(data_horizon_df[\"gerrit_closing_date\"] >= '2015-01-01') & (data_horizon_df[\"gerrit_closing_date\"] <= '2016-01-01')];\n",
    "# horizon_review_time_2015"
   ]
  },
  {
   "cell_type": "markdown",
   "metadata": {},
   "source": [
    "2078 fixes were merged in Horizon during 2015"
   ]
  },
  {
   "cell_type": "code",
   "execution_count": 159,
   "metadata": {
    "collapsed": false
   },
   "outputs": [
    {
     "name": "stdout",
     "output_type": "stream",
     "text": [
      "Median Time for reviewing during 2015: 81.485139 hours\n",
      "Quantiles: (time reported in seconds) \n",
      "      time2close\n",
      "0.25    48866.75\n",
      "0.50   293346.50\n",
      "0.75  1469070.00\n"
     ]
    }
   ],
   "source": [
    "# Median time and quantiles for Horizon 2015\n",
    "print \"Median Time for reviewing during 2015: %f hours\" % (horizon_review_time_2015.median()/3600.0)\n",
    "print \"Quantiles: (time reported in seconds) \"\n",
    "print horizon_review_time_2015.quantile([0.25, 0.5, 0.75])"
   ]
  },
  {
   "cell_type": "markdown",
   "metadata": {},
   "source": [
    "## Year 2014"
   ]
  },
  {
   "cell_type": "code",
   "execution_count": 161,
   "metadata": {
    "collapsed": false
   },
   "outputs": [],
   "source": [
    "# review time in Horizon for year 2014\n",
    "horizon_review_time_2014 = data_horizon_df[(data_horizon_df[\"gerrit_closing_date\"] >= '2014-01-01') & (data_horizon_df[\"gerrit_closing_date\"] <= '2015-01-01')];\n",
    "# horizon_review_time_2014"
   ]
  },
  {
   "cell_type": "markdown",
   "metadata": {},
   "source": [
    "1483 fixes have been merged in Horizon during 2014"
   ]
  },
  {
   "cell_type": "code",
   "execution_count": 162,
   "metadata": {
    "collapsed": false
   },
   "outputs": [
    {
     "name": "stdout",
     "output_type": "stream",
     "text": [
      "Median Time for reviewing during 2014: 114.888056 hours\n",
      "Quantiles: (time reported in seconds) \n",
      "      time2close\n",
      "0.25       84652\n",
      "0.50      413597\n",
      "0.75     1877470\n"
     ]
    }
   ],
   "source": [
    "# Median time and quantiles for Horizon 2014\n",
    "print \"Median Time for reviewing during 2014: %f hours\" % (horizon_review_time_2014.median()/3600.0)\n",
    "print \"Quantiles: (time reported in seconds) \"\n",
    "print horizon_review_time_2014.quantile([0.25, 0.5, 0.75])"
   ]
  },
  {
   "cell_type": "markdown",
   "metadata": {},
   "source": [
    "## Year 2013"
   ]
  },
  {
   "cell_type": "code",
   "execution_count": 164,
   "metadata": {
    "collapsed": false
   },
   "outputs": [],
   "source": [
    "# review time in Horizon for year 2013\n",
    "horizon_review_time_2013 = data_horizon_df[(data_horizon_df[\"gerrit_closing_date\"] >= '2013-01-01') & (data_horizon_df[\"gerrit_closing_date\"] <= '2014-01-01')];\n",
    "# horizon_review_time_2013"
   ]
  },
  {
   "cell_type": "markdown",
   "metadata": {},
   "source": [
    "794 fixes have been merged in Horizon during 2013"
   ]
  },
  {
   "cell_type": "code",
   "execution_count": 165,
   "metadata": {
    "collapsed": false
   },
   "outputs": [
    {
     "name": "stdout",
     "output_type": "stream",
     "text": [
      "Median Time for reviewing during 2013: 70.425417 hours\n",
      "Quantiles: (time reported in seconds) \n",
      "      time2close\n",
      "0.25    69047.25\n",
      "0.50   253531.50\n",
      "0.75   786780.00\n"
     ]
    }
   ],
   "source": [
    "# Median time and quantiles for Horizon 2013\n",
    "print \"Median Time for reviewing during 2013: %f hours\" % (horizon_review_time_2013.median()/3600.0)\n",
    "print \"Quantiles: (time reported in seconds) \"\n",
    "print horizon_review_time_2013.quantile([0.25, 0.5, 0.75])"
   ]
  },
  {
   "cell_type": "markdown",
   "metadata": {},
   "source": [
    "## Year 2012"
   ]
  },
  {
   "cell_type": "code",
   "execution_count": 167,
   "metadata": {
    "collapsed": false
   },
   "outputs": [],
   "source": [
    "# review time in Horizon for year 2012\n",
    "horizon_review_time_2012 = data_horizon_df[(data_horizon_df[\"gerrit_closing_date\"] >= '2012-01-01') & (data_horizon_df[\"gerrit_closing_date\"] <= '2013-01-01')];\n",
    "# horizon_review_time_2012"
   ]
  },
  {
   "cell_type": "markdown",
   "metadata": {},
   "source": [
    "577 fixes were merged in Horizon during 2012"
   ]
  },
  {
   "cell_type": "code",
   "execution_count": 168,
   "metadata": {
    "collapsed": false
   },
   "outputs": [
    {
     "name": "stdout",
     "output_type": "stream",
     "text": [
      "Median Time for reviewing during 2012: 7.044167 hours\n",
      "Quantiles: (time reported in seconds) \n",
      "      time2close\n",
      "0.25        1272\n",
      "0.50       25359\n",
      "0.75      135183\n"
     ]
    }
   ],
   "source": [
    "# Median time and quantiles for Horizon 2012\n",
    "print \"Median Time for reviewing during 2012: %f hours\" % (horizon_review_time_2012.median()/3600.0)\n",
    "print \"Quantiles: (time reported in seconds) \"\n",
    "print horizon_review_time_2012.quantile([0.25, 0.5, 0.75])"
   ]
  },
  {
   "cell_type": "markdown",
   "metadata": {},
   "source": [
    "## Year 2011"
   ]
  },
  {
   "cell_type": "code",
   "execution_count": 170,
   "metadata": {
    "collapsed": false
   },
   "outputs": [],
   "source": [
    "# review time in Horizon for year 2011\n",
    "horizon_review_time_2011 = data_horizon_df[(data_horizon_df[\"gerrit_closing_date\"] >= '2011-01-01') & (data_horizon_df[\"gerrit_closing_date\"] <= '2012-01-01')];\n",
    "# horizon_review_time_2011"
   ]
  },
  {
   "cell_type": "markdown",
   "metadata": {},
   "source": [
    "108 fixes merged in Horizon during 2011"
   ]
  },
  {
   "cell_type": "code",
   "execution_count": 171,
   "metadata": {
    "collapsed": false
   },
   "outputs": [
    {
     "name": "stdout",
     "output_type": "stream",
     "text": [
      "Median Time for reviewing during 2011: 0.399444 hours\n",
      "Quantiles: (time reported in seconds) \n",
      "      time2close\n",
      "0.25         0.0\n",
      "0.50      1438.0\n",
      "0.75     37330.5\n"
     ]
    }
   ],
   "source": [
    "# Median time and quantiles for Horizon 2011\n",
    "print \"Median Time for reviewing during 2011: %f hours\" % (horizon_review_time_2011.median()/3600.0)\n",
    "print \"Quantiles: (time reported in seconds) \"\n",
    "print horizon_review_time_2011.quantile([0.25, 0.5, 0.75])"
   ]
  },
  {
   "cell_type": "markdown",
   "metadata": {},
   "source": [
    "# Time to review in Keystone"
   ]
  },
  {
   "cell_type": "code",
   "execution_count": 174,
   "metadata": {
    "collapsed": true
   },
   "outputs": [],
   "source": [
    "query_keystone = \"\"\" select * from review_time \n",
    "where \n",
    "gerrit_tracker like '%keystone%' and \n",
    "current_status = 'MERGED' \"\"\""
   ]
  },
  {
   "cell_type": "code",
   "execution_count": 175,
   "metadata": {
    "collapsed": false
   },
   "outputs": [],
   "source": [
    "data_keystone = execute_query(cursor,query_keystone)"
   ]
  },
  {
   "cell_type": "code",
   "execution_count": 176,
   "metadata": {
    "collapsed": true
   },
   "outputs": [],
   "source": [
    "data_keystone_list = list(data_keystone)"
   ]
  },
  {
   "cell_type": "code",
   "execution_count": 177,
   "metadata": {
    "collapsed": false
   },
   "outputs": [
    {
     "data": {
      "text/plain": [
       "['gerrit_issue',\n",
       " 'gerrit_opening_date',\n",
       " 'gerrit_closing_date',\n",
       " 'time2close',\n",
       " 'gerrit_tracker',\n",
       " 'current_status']"
      ]
     },
     "execution_count": 177,
     "metadata": {},
     "output_type": "execute_result"
    }
   ],
   "source": [
    "data_keystone_df = pandas.DataFrame(data_keystone_list, columns=[\"gerrit_issue\", \"gerrit_opening_date\", \"gerrit_closing_date\", \"time2close\", \"gerrit_tracker\", \"current_status\"])\n",
    "data_keystone_df.columns.values.tolist()"
   ]
  },
  {
   "cell_type": "code",
   "execution_count": 179,
   "metadata": {
    "collapsed": false
   },
   "outputs": [],
   "source": [
    "# data_keystone_df"
   ]
  },
  {
   "cell_type": "markdown",
   "metadata": {},
   "source": [
    "### 6449 fixes have been merged in Keystone project from 2011 to 2015 and January 2016."
   ]
  },
  {
   "cell_type": "code",
   "execution_count": 180,
   "metadata": {
    "collapsed": false
   },
   "outputs": [
    {
     "name": "stdout",
     "output_type": "stream",
     "text": [
      "Median Time for reviewing in Keystone from 2011 to 2015: 102.903889 hours\n",
      "Quantiles: (time reported in seconds) \n",
      "      time2close\n",
      "0.25       58711\n",
      "0.50      370454\n",
      "0.75     1384084\n"
     ]
    }
   ],
   "source": [
    "# Median time and quantiles in Keystone from 2011 to 2015\n",
    "print \"Median Time for reviewing in Keystone from 2011 to 2015: %f hours\" % (data_keystone_df.median()/3600.0)\n",
    "print \"Quantiles: (time reported in seconds) \"\n",
    "print data_keystone_df.quantile([0.25, 0.5, 0.75])"
   ]
  },
  {
   "cell_type": "markdown",
   "metadata": {},
   "source": [
    "## Year 2015"
   ]
  },
  {
   "cell_type": "code",
   "execution_count": 182,
   "metadata": {
    "collapsed": false
   },
   "outputs": [],
   "source": [
    "# review time in Keystone for year 2015\n",
    "keystone_review_time_2015 = data_keystone_df[(data_keystone_df[\"gerrit_closing_date\"] >= '2015-01-01') & (data_keystone_df[\"gerrit_closing_date\"] <= '2016-01-01')];\n",
    "# keystone_review_time_2015"
   ]
  },
  {
   "cell_type": "markdown",
   "metadata": {},
   "source": [
    "2406 fixes were merged in Keystone during 2015"
   ]
  },
  {
   "cell_type": "code",
   "execution_count": 183,
   "metadata": {
    "collapsed": false
   },
   "outputs": [
    {
     "name": "stdout",
     "output_type": "stream",
     "text": [
      "Median Time for reviewing during 2015: 119.680694 hours\n",
      "Quantiles: (time reported in seconds) \n",
      "      time2close\n",
      "0.25    75441.75\n",
      "0.50   430850.50\n",
      "0.75  1916607.50\n"
     ]
    }
   ],
   "source": [
    "# Median time and quantiles for Keystone 2015\n",
    "print \"Median Time for reviewing during 2015: %f hours\" % (keystone_review_time_2015.median()/3600.0)\n",
    "print \"Quantiles: (time reported in seconds) \"\n",
    "print keystone_review_time_2015.quantile([0.25, 0.5, 0.75])"
   ]
  },
  {
   "cell_type": "markdown",
   "metadata": {},
   "source": [
    "## Year 2014"
   ]
  },
  {
   "cell_type": "code",
   "execution_count": 185,
   "metadata": {
    "collapsed": false
   },
   "outputs": [],
   "source": [
    "# review time in Keystone for year 2014\n",
    "keystone_review_time_2014 = data_keystone_df[(data_keystone_df[\"gerrit_closing_date\"] >= '2014-01-01') & (data_keystone_df[\"gerrit_closing_date\"] <= '2015-01-01')];\n",
    "# keystone_review_time_2014"
   ]
  },
  {
   "cell_type": "markdown",
   "metadata": {},
   "source": [
    "1818 fixes have been merged in Keystone during 2014"
   ]
  },
  {
   "cell_type": "code",
   "execution_count": 186,
   "metadata": {
    "collapsed": false
   },
   "outputs": [
    {
     "name": "stdout",
     "output_type": "stream",
     "text": [
      "Median Time for reviewing during 2014: 149.550694 hours\n",
      "Quantiles: (time reported in seconds) \n",
      "      time2close\n",
      "0.25    117713.0\n",
      "0.50    538382.5\n",
      "0.75   1733132.0\n"
     ]
    }
   ],
   "source": [
    "# Median time and quantiles for Keystone 2014\n",
    "print \"Median Time for reviewing during 2014: %f hours\" % (keystone_review_time_2014.median()/3600.0)\n",
    "print \"Quantiles: (time reported in seconds) \"\n",
    "print keystone_review_time_2014.quantile([0.25, 0.5, 0.75])"
   ]
  },
  {
   "cell_type": "markdown",
   "metadata": {},
   "source": [
    "## Year 2013"
   ]
  },
  {
   "cell_type": "code",
   "execution_count": 188,
   "metadata": {
    "collapsed": false
   },
   "outputs": [],
   "source": [
    "# review time in Keystone for year 2013\n",
    "keystone_review_time_2013 = data_keystone_df[(data_keystone_df[\"gerrit_closing_date\"] >= '2013-01-01') & (data_keystone_df[\"gerrit_closing_date\"] <= '2014-01-01')];\n",
    "# keystone_review_time_2013"
   ]
  },
  {
   "cell_type": "markdown",
   "metadata": {},
   "source": [
    "1069 fixes have been merged in Keystone during 2013"
   ]
  },
  {
   "cell_type": "code",
   "execution_count": 189,
   "metadata": {
    "collapsed": false
   },
   "outputs": [
    {
     "name": "stdout",
     "output_type": "stream",
     "text": [
      "Median Time for reviewing during 2013: 141.852222 hours\n",
      "Quantiles: (time reported in seconds) \n",
      "      time2close\n",
      "0.25       75503\n",
      "0.50      510668\n",
      "0.75     1294852\n"
     ]
    }
   ],
   "source": [
    "# Median time and quantiles for Keystone 2013\n",
    "print \"Median Time for reviewing during 2013: %f hours\" % (keystone_review_time_2013.median()/3600.0)\n",
    "print \"Quantiles: (time reported in seconds) \"\n",
    "print keystone_review_time_2013.quantile([0.25, 0.5, 0.75])"
   ]
  },
  {
   "cell_type": "markdown",
   "metadata": {},
   "source": [
    "## Year 2012"
   ]
  },
  {
   "cell_type": "code",
   "execution_count": 193,
   "metadata": {
    "collapsed": false
   },
   "outputs": [],
   "source": [
    "# review time in Keystone for year 2012\n",
    "keystone_review_time_2012 = data_keystone_df[(data_keystone_df[\"gerrit_closing_date\"] >= '2012-01-01') & (data_keystone_df[\"gerrit_closing_date\"] <= '2013-01-01')];\n",
    "# keystone_review_time_2012"
   ]
  },
  {
   "cell_type": "markdown",
   "metadata": {},
   "source": [
    "714 fixes were merged in Keystone during 2012"
   ]
  },
  {
   "cell_type": "code",
   "execution_count": 194,
   "metadata": {
    "collapsed": false
   },
   "outputs": [
    {
     "name": "stdout",
     "output_type": "stream",
     "text": [
      "Median Time for reviewing during 2012: 38.344167 hours\n",
      "Quantiles: (time reported in seconds) \n",
      "      time2close\n",
      "0.25    11834.00\n",
      "0.50   138039.00\n",
      "0.75   563588.75\n"
     ]
    }
   ],
   "source": [
    "# Median time and quantiles for Keystone 2012\n",
    "print \"Median Time for reviewing during 2012: %f hours\" % (keystone_review_time_2012.median()/3600.0)\n",
    "print \"Quantiles: (time reported in seconds) \"\n",
    "print keystone_review_time_2012.quantile([0.25, 0.5, 0.75])"
   ]
  },
  {
   "cell_type": "markdown",
   "metadata": {},
   "source": [
    "## Year 2011"
   ]
  },
  {
   "cell_type": "code",
   "execution_count": 196,
   "metadata": {
    "collapsed": false
   },
   "outputs": [],
   "source": [
    "# review time in Keystone for year 2011\n",
    "keystone_review_time_2011 = data_keystone_df[(data_keystone_df[\"gerrit_closing_date\"] >= '2011-01-01') & (data_keystone_df[\"gerrit_closing_date\"] <= '2012-01-01')];\n",
    "# keystone_review_time_2011"
   ]
  },
  {
   "cell_type": "markdown",
   "metadata": {},
   "source": [
    "401 fixes merged in Keystone during 2011"
   ]
  },
  {
   "cell_type": "code",
   "execution_count": 197,
   "metadata": {
    "collapsed": false
   },
   "outputs": [
    {
     "name": "stdout",
     "output_type": "stream",
     "text": [
      "Median Time for reviewing during 2011: 1.879722 hours\n",
      "Quantiles: (time reported in seconds) \n",
      "      time2close\n",
      "0.25           0\n",
      "0.50        6767\n",
      "0.75       63310\n"
     ]
    }
   ],
   "source": [
    "# Median time and quantiles for Keystone 2011\n",
    "print \"Median Time for reviewing during 2011: %f hours\" % (keystone_review_time_2011.median()/3600.0)\n",
    "print \"Quantiles: (time reported in seconds) \"\n",
    "print keystone_review_time_2011.quantile([0.25, 0.5, 0.75])"
   ]
  },
  {
   "cell_type": "markdown",
   "metadata": {},
   "source": [
    "# Time to review in Glance"
   ]
  },
  {
   "cell_type": "code",
   "execution_count": 198,
   "metadata": {
    "collapsed": true
   },
   "outputs": [],
   "source": [
    "query_glance = \"\"\" select * from review_time \n",
    "where \n",
    "gerrit_tracker like '%glance%' and \n",
    "current_status = 'MERGED' \"\"\""
   ]
  },
  {
   "cell_type": "code",
   "execution_count": 199,
   "metadata": {
    "collapsed": false
   },
   "outputs": [],
   "source": [
    "data_glance = execute_query(cursor,query_glance)"
   ]
  },
  {
   "cell_type": "code",
   "execution_count": 201,
   "metadata": {
    "collapsed": true
   },
   "outputs": [],
   "source": [
    "data_glance_list = list(data_glance)"
   ]
  },
  {
   "cell_type": "code",
   "execution_count": 202,
   "metadata": {
    "collapsed": false
   },
   "outputs": [
    {
     "data": {
      "text/plain": [
       "['gerrit_issue',\n",
       " 'gerrit_opening_date',\n",
       " 'gerrit_closing_date',\n",
       " 'time2close',\n",
       " 'gerrit_tracker',\n",
       " 'current_status']"
      ]
     },
     "execution_count": 202,
     "metadata": {},
     "output_type": "execute_result"
    }
   ],
   "source": [
    "data_glance_df = pandas.DataFrame(data_glance_list, columns=[\"gerrit_issue\", \"gerrit_opening_date\", \"gerrit_closing_date\", \"time2close\", \"gerrit_tracker\", \"current_status\"])\n",
    "data_glance_df.columns.values.tolist()"
   ]
  },
  {
   "cell_type": "code",
   "execution_count": 204,
   "metadata": {
    "collapsed": false
   },
   "outputs": [],
   "source": [
    "# data_glance_df"
   ]
  },
  {
   "cell_type": "markdown",
   "metadata": {},
   "source": [
    "### 3524 fixes have been merged in Glance project from 2011 to 2015 and January 2016."
   ]
  },
  {
   "cell_type": "code",
   "execution_count": 205,
   "metadata": {
    "collapsed": false
   },
   "outputs": [
    {
     "name": "stdout",
     "output_type": "stream",
     "text": [
      "Median Time for reviewing in Glance from 2011 to 2015: 101.927639 hours\n",
      "Quantiles: (time reported in seconds) \n",
      "      time2close\n",
      "0.25    60069.00\n",
      "0.50   366939.50\n",
      "0.75  1343189.25\n"
     ]
    }
   ],
   "source": [
    "# Median time and quantiles in Glance from 2011 to 2015\n",
    "print \"Median Time for reviewing in Glance from 2011 to 2015: %f hours\" % (data_glance_df.median()/3600.0)\n",
    "print \"Quantiles: (time reported in seconds) \"\n",
    "print data_glance_df.quantile([0.25, 0.5, 0.75])"
   ]
  },
  {
   "cell_type": "markdown",
   "metadata": {},
   "source": [
    "## Year 2015"
   ]
  },
  {
   "cell_type": "code",
   "execution_count": 207,
   "metadata": {
    "collapsed": false
   },
   "outputs": [],
   "source": [
    "# review time in Glance for year 2015\n",
    "glance_review_time_2015 = data_glance_df[(data_glance_df[\"gerrit_closing_date\"] >= '2015-01-01') & (data_glance_df[\"gerrit_closing_date\"] <= '2016-01-01')];\n",
    "# glance_review_time_2015"
   ]
  },
  {
   "cell_type": "markdown",
   "metadata": {},
   "source": [
    "1108 fixes were merged in Glance during 2015"
   ]
  },
  {
   "cell_type": "code",
   "execution_count": 208,
   "metadata": {
    "collapsed": false,
    "scrolled": true
   },
   "outputs": [
    {
     "name": "stdout",
     "output_type": "stream",
     "text": [
      "Median Time for reviewing during 2015: 169.871389 hours\n",
      "Quantiles: (time reported in seconds) \n",
      "      time2close\n",
      "0.25    122570.0\n",
      "0.50    611537.0\n",
      "0.75   2496755.5\n"
     ]
    }
   ],
   "source": [
    "# Median time and quantiles for Glance 2015\n",
    "print \"Median Time for reviewing during 2015: %f hours\" % (glance_review_time_2015.median()/3600.0)\n",
    "print \"Quantiles: (time reported in seconds) \"\n",
    "print glance_review_time_2015.quantile([0.25, 0.5, 0.75])"
   ]
  },
  {
   "cell_type": "markdown",
   "metadata": {},
   "source": [
    "## Year 2014"
   ]
  },
  {
   "cell_type": "code",
   "execution_count": 210,
   "metadata": {
    "collapsed": false
   },
   "outputs": [],
   "source": [
    "# review time in Glance for year 2014\n",
    "glance_review_time_2014 = data_glance_df[(data_glance_df[\"gerrit_closing_date\"] >= '2014-01-01') & (data_glance_df[\"gerrit_closing_date\"] <= '2015-01-01')];\n",
    "# glance_review_time_2014"
   ]
  },
  {
   "cell_type": "markdown",
   "metadata": {},
   "source": [
    "782 fixes have been merged in Glance during 2014"
   ]
  },
  {
   "cell_type": "code",
   "execution_count": 211,
   "metadata": {
    "collapsed": false
   },
   "outputs": [
    {
     "name": "stdout",
     "output_type": "stream",
     "text": [
      "Median Time for reviewing during 2014: 161.890833 hours\n",
      "Quantiles: (time reported in seconds) \n",
      "      time2close\n",
      "0.25    85827.50\n",
      "0.50   582807.00\n",
      "0.75  2256109.75\n"
     ]
    }
   ],
   "source": [
    "# Median time and quantiles for Glance 2014\n",
    "print \"Median Time for reviewing during 2014: %f hours\" % (glance_review_time_2014.median()/3600.0)\n",
    "print \"Quantiles: (time reported in seconds) \"\n",
    "print glance_review_time_2014.quantile([0.25, 0.5, 0.75])"
   ]
  },
  {
   "cell_type": "markdown",
   "metadata": {},
   "source": [
    "## Year 2013"
   ]
  },
  {
   "cell_type": "code",
   "execution_count": 213,
   "metadata": {
    "collapsed": false
   },
   "outputs": [],
   "source": [
    "# review time in Glance for year 2013\n",
    "glance_review_time_2013 = data_glance_df[(data_glance_df[\"gerrit_closing_date\"] >= '2013-01-01') & (data_glance_df[\"gerrit_closing_date\"] <= '2014-01-01')];\n",
    "# glance_review_time_2013"
   ]
  },
  {
   "cell_type": "markdown",
   "metadata": {},
   "source": [
    "692 fixes have been merged in Glance during 2013"
   ]
  },
  {
   "cell_type": "code",
   "execution_count": 214,
   "metadata": {
    "collapsed": false
   },
   "outputs": [
    {
     "name": "stdout",
     "output_type": "stream",
     "text": [
      "Median Time for reviewing during 2013: 160.101806 hours\n",
      "Quantiles: (time reported in seconds) \n",
      "      time2close\n",
      "0.25    94750.25\n",
      "0.50   576366.50\n",
      "0.75  1500742.75\n"
     ]
    }
   ],
   "source": [
    "# Median time and quantiles for Glance 2013\n",
    "print \"Median Time for reviewing during 2013: %f hours\" % (glance_review_time_2013.median()/3600.0)\n",
    "print \"Quantiles: (time reported in seconds) \"\n",
    "print glance_review_time_2013.quantile([0.25, 0.5, 0.75])"
   ]
  },
  {
   "cell_type": "markdown",
   "metadata": {},
   "source": [
    "## Year 2012"
   ]
  },
  {
   "cell_type": "code",
   "execution_count": 216,
   "metadata": {
    "collapsed": false
   },
   "outputs": [],
   "source": [
    "# review time in Glance for year 2012\n",
    "glance_review_time_2012 = data_glance_df[(data_glance_df[\"gerrit_closing_date\"] >= '2012-01-01') & (data_glance_df[\"gerrit_closing_date\"] <= '2013-01-01')];\n",
    "# glance_review_time_2012"
   ]
  },
  {
   "cell_type": "markdown",
   "metadata": {},
   "source": [
    "771 fixes were merged in Glance during 2012"
   ]
  },
  {
   "cell_type": "code",
   "execution_count": 217,
   "metadata": {
    "collapsed": false
   },
   "outputs": [
    {
     "name": "stdout",
     "output_type": "stream",
     "text": [
      "Median Time for reviewing during 2012: 24.168056 hours\n",
      "Quantiles: (time reported in seconds) \n",
      "      time2close\n",
      "0.25       11333\n",
      "0.50       87005\n",
      "0.75      380678\n"
     ]
    }
   ],
   "source": [
    "# Median time and quantiles for Glance 2012\n",
    "print \"Median Time for reviewing during 2012: %f hours\" % (glance_review_time_2012.median()/3600.0)\n",
    "print \"Quantiles: (time reported in seconds) \"\n",
    "print glance_review_time_2012.quantile([0.25, 0.5, 0.75])"
   ]
  },
  {
   "cell_type": "markdown",
   "metadata": {},
   "source": [
    "## Year 2011"
   ]
  },
  {
   "cell_type": "code",
   "execution_count": 219,
   "metadata": {
    "collapsed": false
   },
   "outputs": [],
   "source": [
    "# review time in Glance for year 2011\n",
    "glance_review_time_2011 = data_glance_df[(data_glance_df[\"gerrit_closing_date\"] >= '2011-01-01') & (data_glance_df[\"gerrit_closing_date\"] <= '2012-01-01')];\n",
    "# glance_review_time_2011"
   ]
  },
  {
   "cell_type": "markdown",
   "metadata": {},
   "source": [
    "158 fixes merged in Glance during 2011"
   ]
  },
  {
   "cell_type": "code",
   "execution_count": 220,
   "metadata": {
    "collapsed": false
   },
   "outputs": [
    {
     "name": "stdout",
     "output_type": "stream",
     "text": [
      "Median Time for reviewing during 2011: 8.408056 hours\n",
      "Quantiles: (time reported in seconds) \n",
      "      time2close\n",
      "0.25     1202.25\n",
      "0.50    30269.00\n",
      "0.75   253611.50\n"
     ]
    }
   ],
   "source": [
    "# Median time and quantiles for Keystone 2011\n",
    "print \"Median Time for reviewing during 2011: %f hours\" % (glance_review_time_2011.median()/3600.0)\n",
    "print \"Quantiles: (time reported in seconds) \"\n",
    "print glance_review_time_2011.quantile([0.25, 0.5, 0.75])"
   ]
  },
  {
   "cell_type": "markdown",
   "metadata": {},
   "source": [
    "# Time to review in Ceilometer"
   ]
  },
  {
   "cell_type": "code",
   "execution_count": 221,
   "metadata": {
    "collapsed": true
   },
   "outputs": [],
   "source": [
    "query_ceilometer = \"\"\" select * from review_time \n",
    "where \n",
    "gerrit_tracker like '%ceilometer%' and \n",
    "current_status = 'MERGED' \"\"\""
   ]
  },
  {
   "cell_type": "code",
   "execution_count": 222,
   "metadata": {
    "collapsed": false
   },
   "outputs": [],
   "source": [
    "data_ceilometer = execute_query(cursor,query_ceilometer)"
   ]
  },
  {
   "cell_type": "code",
   "execution_count": 223,
   "metadata": {
    "collapsed": true
   },
   "outputs": [],
   "source": [
    "data_ceilometer_list = list(data_ceilometer)"
   ]
  },
  {
   "cell_type": "code",
   "execution_count": 224,
   "metadata": {
    "collapsed": false
   },
   "outputs": [
    {
     "data": {
      "text/plain": [
       "['gerrit_issue',\n",
       " 'gerrit_opening_date',\n",
       " 'gerrit_closing_date',\n",
       " 'time2close',\n",
       " 'gerrit_tracker',\n",
       " 'current_status']"
      ]
     },
     "execution_count": 224,
     "metadata": {},
     "output_type": "execute_result"
    }
   ],
   "source": [
    "data_ceilometer_df = pandas.DataFrame(data_ceilometer_list, columns=[\"gerrit_issue\", \"gerrit_opening_date\", \"gerrit_closing_date\", \"time2close\", \"gerrit_tracker\", \"current_status\"])\n",
    "data_ceilometer_df.columns.values.tolist()"
   ]
  },
  {
   "cell_type": "code",
   "execution_count": 226,
   "metadata": {
    "collapsed": false
   },
   "outputs": [],
   "source": [
    "# data_ceilometer_df"
   ]
  },
  {
   "cell_type": "markdown",
   "metadata": {},
   "source": [
    "### 3497 fixes have been merged in Ceilometer project from 2011 to 2015 and January 2016."
   ]
  },
  {
   "cell_type": "code",
   "execution_count": 227,
   "metadata": {
    "collapsed": false
   },
   "outputs": [
    {
     "name": "stdout",
     "output_type": "stream",
     "text": [
      "Median Time for reviewing in Ceilometer from 2011 to 2015: 72.151111 hours\n",
      "Quantiles: (time reported in seconds) \n",
      "      time2close\n",
      "0.25       54643\n",
      "0.50      259744\n",
      "0.75      772713\n"
     ]
    }
   ],
   "source": [
    "# Median time and quantiles in Ceilometer from 2011 to 2015\n",
    "print \"Median Time for reviewing in Ceilometer from 2011 to 2015: %f hours\" % (data_ceilometer_df.median()/3600.0)\n",
    "print \"Quantiles: (time reported in seconds) \"\n",
    "print data_ceilometer_df.quantile([0.25, 0.5, 0.75])"
   ]
  },
  {
   "cell_type": "markdown",
   "metadata": {},
   "source": [
    "## Year 2015"
   ]
  },
  {
   "cell_type": "code",
   "execution_count": 229,
   "metadata": {
    "collapsed": false
   },
   "outputs": [],
   "source": [
    "# review time in Ceilometer for year 2015\n",
    "ceilometer_review_time_2015 = data_ceilometer_df[(data_ceilometer_df[\"gerrit_closing_date\"] >= '2015-01-01') & (data_ceilometer_df[\"gerrit_closing_date\"] <= '2016-01-01')];\n",
    "# ceilometer_review_time_2015"
   ]
  },
  {
   "cell_type": "markdown",
   "metadata": {},
   "source": [
    "1243 fixes were merged in Ceilometer during 2015"
   ]
  },
  {
   "cell_type": "code",
   "execution_count": 230,
   "metadata": {
    "collapsed": false,
    "scrolled": true
   },
   "outputs": [
    {
     "name": "stdout",
     "output_type": "stream",
     "text": [
      "Median Time for reviewing during 2015: 73.906111 hours\n",
      "Quantiles: (time reported in seconds) \n",
      "      time2close\n",
      "0.25     58337.5\n",
      "0.50    266062.0\n",
      "0.75    849211.5\n"
     ]
    }
   ],
   "source": [
    "# Median time and quantiles for Ceilometer 2015\n",
    "print \"Median Time for reviewing during 2015: %f hours\" % (ceilometer_review_time_2015.median()/3600.0)\n",
    "print \"Quantiles: (time reported in seconds) \"\n",
    "print ceilometer_review_time_2015.quantile([0.25, 0.5, 0.75])"
   ]
  },
  {
   "cell_type": "markdown",
   "metadata": {},
   "source": [
    "## Year 2014"
   ]
  },
  {
   "cell_type": "code",
   "execution_count": 232,
   "metadata": {
    "collapsed": false
   },
   "outputs": [],
   "source": [
    "# review time in Ceilometer for year 2014\n",
    "ceilometer_review_time_2014 = data_ceilometer_df[(data_ceilometer_df[\"gerrit_closing_date\"] >= '2014-01-01') & (data_ceilometer_df[\"gerrit_closing_date\"] <= '2015-01-01')];\n",
    "# ceilometer_review_time_2014"
   ]
  },
  {
   "cell_type": "markdown",
   "metadata": {},
   "source": [
    "1049 fixes have been merged in Ceilometer during 2014"
   ]
  },
  {
   "cell_type": "code",
   "execution_count": 233,
   "metadata": {
    "collapsed": false
   },
   "outputs": [
    {
     "name": "stdout",
     "output_type": "stream",
     "text": [
      "Median Time for reviewing during 2014: 123.487222 hours\n",
      "Quantiles: (time reported in seconds) \n",
      "      time2close\n",
      "0.25       73261\n",
      "0.50      444554\n",
      "0.75     1251586\n"
     ]
    }
   ],
   "source": [
    "# Median time and quantiles for Ceilometer 2014\n",
    "print \"Median Time for reviewing during 2014: %f hours\" % (ceilometer_review_time_2014.median()/3600.0)\n",
    "print \"Quantiles: (time reported in seconds) \"\n",
    "print ceilometer_review_time_2014.quantile([0.25, 0.5, 0.75])"
   ]
  },
  {
   "cell_type": "markdown",
   "metadata": {},
   "source": [
    "## Year 2013"
   ]
  },
  {
   "cell_type": "code",
   "execution_count": 235,
   "metadata": {
    "collapsed": false
   },
   "outputs": [],
   "source": [
    "# review time in Ceilometer for year 2013\n",
    "ceilometer_review_time_2013 = data_ceilometer_df[(data_ceilometer_df[\"gerrit_closing_date\"] >= '2013-01-01') & (data_ceilometer_df[\"gerrit_closing_date\"] <= '2014-01-01')];\n",
    "# ceilometer_review_time_2013"
   ]
  },
  {
   "cell_type": "markdown",
   "metadata": {},
   "source": [
    "951 fixes have been merged in Ceilometer during 2013"
   ]
  },
  {
   "cell_type": "code",
   "execution_count": 236,
   "metadata": {
    "collapsed": false
   },
   "outputs": [
    {
     "name": "stdout",
     "output_type": "stream",
     "text": [
      "Median Time for reviewing during 2013: 52.921667 hours\n",
      "Quantiles: (time reported in seconds) \n",
      "      time2close\n",
      "0.25     48764.5\n",
      "0.50    190518.0\n",
      "0.75    542287.5\n"
     ]
    }
   ],
   "source": [
    "# Median time and quantiles for Ceilometer 2013\n",
    "print \"Median Time for reviewing during 2013: %f hours\" % (ceilometer_review_time_2013.median()/3600.0)\n",
    "print \"Quantiles: (time reported in seconds) \"\n",
    "print ceilometer_review_time_2013.quantile([0.25, 0.5, 0.75])"
   ]
  },
  {
   "cell_type": "markdown",
   "metadata": {},
   "source": [
    "## Year 2012"
   ]
  },
  {
   "cell_type": "code",
   "execution_count": 238,
   "metadata": {
    "collapsed": false
   },
   "outputs": [],
   "source": [
    "# review time in Ceilometer for year 2012\n",
    "ceilometer_review_time_2012 = data_ceilometer_df[(data_ceilometer_df[\"gerrit_closing_date\"] >= '2012-01-01') & (data_ceilometer_df[\"gerrit_closing_date\"] <= '2013-01-01')];\n",
    "# ceilometer_review_time_2012"
   ]
  },
  {
   "cell_type": "markdown",
   "metadata": {},
   "source": [
    "239 fixes were merged in Ceilometer during 2012"
   ]
  },
  {
   "cell_type": "code",
   "execution_count": 239,
   "metadata": {
    "collapsed": false,
    "scrolled": true
   },
   "outputs": [
    {
     "name": "stdout",
     "output_type": "stream",
     "text": [
      "Median Time for reviewing during 2012: 20.894167 hours\n",
      "Quantiles: (time reported in seconds) \n",
      "      time2close\n",
      "0.25     11193.0\n",
      "0.50     75219.0\n",
      "0.75    241376.5\n"
     ]
    }
   ],
   "source": [
    "# Median time and quantiles for Ceilometer 2012\n",
    "print \"Median Time for reviewing during 2012: %f hours\" % (ceilometer_review_time_2012.median()/3600.0)\n",
    "print \"Quantiles: (time reported in seconds) \"\n",
    "print ceilometer_review_time_2012.quantile([0.25, 0.5, 0.75])"
   ]
  },
  {
   "cell_type": "markdown",
   "metadata": {},
   "source": [
    "## Year 2011"
   ]
  },
  {
   "cell_type": "code",
   "execution_count": 240,
   "metadata": {
    "collapsed": false
   },
   "outputs": [
    {
     "data": {
      "text/html": [
       "<div>\n",
       "<table border=\"1\" class=\"dataframe\">\n",
       "  <thead>\n",
       "    <tr style=\"text-align: right;\">\n",
       "      <th></th>\n",
       "      <th>gerrit_issue</th>\n",
       "      <th>gerrit_opening_date</th>\n",
       "      <th>gerrit_closing_date</th>\n",
       "      <th>time2close</th>\n",
       "      <th>gerrit_tracker</th>\n",
       "      <th>current_status</th>\n",
       "    </tr>\n",
       "  </thead>\n",
       "  <tbody>\n",
       "  </tbody>\n",
       "</table>\n",
       "</div>"
      ],
      "text/plain": [
       "Empty DataFrame\n",
       "Columns: [gerrit_issue, gerrit_opening_date, gerrit_closing_date, time2close, gerrit_tracker, current_status]\n",
       "Index: []"
      ]
     },
     "execution_count": 240,
     "metadata": {},
     "output_type": "execute_result"
    }
   ],
   "source": [
    "# review time in Ceilometer for year 2011\n",
    "ceilometer_review_time_2011 = data_ceilometer_df[(data_ceilometer_df[\"gerrit_closing_date\"] >= '2011-01-01') & (data_ceilometer_df[\"gerrit_closing_date\"] <= '2012-01-01')];\n",
    "ceilometer_review_time_2011"
   ]
  },
  {
   "cell_type": "markdown",
   "metadata": {},
   "source": [
    "no fixes in Ceilometer during 2011"
   ]
  },
  {
   "cell_type": "markdown",
   "metadata": {},
   "source": [
    "# Time to review in Heat"
   ]
  },
  {
   "cell_type": "code",
   "execution_count": 241,
   "metadata": {
    "collapsed": true
   },
   "outputs": [],
   "source": [
    "query_heat = \"\"\" select * from review_time \n",
    "where \n",
    "gerrit_tracker like '%heat%' and \n",
    "current_status = 'MERGED' \"\"\""
   ]
  },
  {
   "cell_type": "code",
   "execution_count": 243,
   "metadata": {
    "collapsed": false
   },
   "outputs": [],
   "source": [
    "data_heat = execute_query(cursor,query_heat)"
   ]
  },
  {
   "cell_type": "code",
   "execution_count": 244,
   "metadata": {
    "collapsed": true
   },
   "outputs": [],
   "source": [
    "data_heat_list = list(data_heat)"
   ]
  },
  {
   "cell_type": "code",
   "execution_count": 245,
   "metadata": {
    "collapsed": false
   },
   "outputs": [
    {
     "data": {
      "text/plain": [
       "['gerrit_issue',\n",
       " 'gerrit_opening_date',\n",
       " 'gerrit_closing_date',\n",
       " 'time2close',\n",
       " 'gerrit_tracker',\n",
       " 'current_status']"
      ]
     },
     "execution_count": 245,
     "metadata": {},
     "output_type": "execute_result"
    }
   ],
   "source": [
    "data_heat_df = pandas.DataFrame(data_heat_list, columns=[\"gerrit_issue\", \"gerrit_opening_date\", \"gerrit_closing_date\", \"time2close\", \"gerrit_tracker\", \"current_status\"])\n",
    "data_heat_df.columns.values.tolist()"
   ]
  },
  {
   "cell_type": "code",
   "execution_count": 248,
   "metadata": {
    "collapsed": false
   },
   "outputs": [],
   "source": [
    "# data_heat_df"
   ]
  },
  {
   "cell_type": "markdown",
   "metadata": {},
   "source": [
    "### 7944 fixes have been merged in Heat project from 2011 to 2015 and January 2016."
   ]
  },
  {
   "cell_type": "code",
   "execution_count": 249,
   "metadata": {
    "collapsed": false
   },
   "outputs": [
    {
     "name": "stdout",
     "output_type": "stream",
     "text": [
      "Median Time for reviewing in Heat from 2011 to 2015: 74.402639 hours\n",
      "Quantiles: (time reported in seconds) \n",
      "      time2close\n",
      "0.25     49834.0\n",
      "0.50    267849.5\n",
      "0.75    980402.0\n"
     ]
    }
   ],
   "source": [
    "# Median time and quantiles in Heat from 2011 to 2015\n",
    "print \"Median Time for reviewing in Heat from 2011 to 2015: %f hours\" % (data_heat_df.median()/3600.0)\n",
    "print \"Quantiles: (time reported in seconds) \"\n",
    "print data_heat_df.quantile([0.25, 0.5, 0.75])"
   ]
  },
  {
   "cell_type": "markdown",
   "metadata": {},
   "source": [
    "## Year 2015"
   ]
  },
  {
   "cell_type": "code",
   "execution_count": 251,
   "metadata": {
    "collapsed": false
   },
   "outputs": [],
   "source": [
    "# review time in Heat for year 2015\n",
    "heat_review_time_2015 = data_heat_df[(data_heat_df[\"gerrit_closing_date\"] >= '2015-01-01') & (data_heat_df[\"gerrit_closing_date\"] <= '2016-01-01')];\n",
    "# heat_review_time_2015"
   ]
  },
  {
   "cell_type": "markdown",
   "metadata": {},
   "source": [
    "3175 fixes were merged in Heat during 2015"
   ]
  },
  {
   "cell_type": "code",
   "execution_count": 252,
   "metadata": {
    "collapsed": false,
    "scrolled": true
   },
   "outputs": [
    {
     "name": "stdout",
     "output_type": "stream",
     "text": [
      "Median Time for reviewing during 2015: 98.826667 hours\n",
      "Quantiles: (time reported in seconds) \n",
      "      time2close\n",
      "0.25     72120.0\n",
      "0.50    355776.0\n",
      "0.75   1255514.5\n"
     ]
    }
   ],
   "source": [
    "# Median time and quantiles for Heat 2015\n",
    "print \"Median Time for reviewing during 2015: %f hours\" % (heat_review_time_2015.median()/3600.0)\n",
    "print \"Quantiles: (time reported in seconds) \"\n",
    "print heat_review_time_2015.quantile([0.25, 0.5, 0.75])"
   ]
  },
  {
   "cell_type": "markdown",
   "metadata": {},
   "source": [
    "## Year 2014"
   ]
  },
  {
   "cell_type": "code",
   "execution_count": 254,
   "metadata": {
    "collapsed": false
   },
   "outputs": [],
   "source": [
    "# review time in Heat for year 2014\n",
    "heat_review_time_2014 = data_heat_df[(data_heat_df[\"gerrit_closing_date\"] >= '2014-01-01') & (data_heat_df[\"gerrit_closing_date\"] <= '2015-01-01')];\n",
    "# heat_review_time_2014"
   ]
  },
  {
   "cell_type": "markdown",
   "metadata": {},
   "source": [
    "2292 fixes have been merged in Heat during 2014"
   ]
  },
  {
   "cell_type": "code",
   "execution_count": 255,
   "metadata": {
    "collapsed": false
   },
   "outputs": [
    {
     "name": "stdout",
     "output_type": "stream",
     "text": [
      "Median Time for reviewing during 2014: 171.915000 hours\n",
      "Quantiles: (time reported in seconds) \n",
      "      time2close\n",
      "0.25   188247.25\n",
      "0.50   618894.00\n",
      "0.75  1748947.75\n"
     ]
    }
   ],
   "source": [
    "# Median time and quantiles for Heat 2014\n",
    "print \"Median Time for reviewing during 2014: %f hours\" % (heat_review_time_2014.median()/3600.0)\n",
    "print \"Quantiles: (time reported in seconds) \"\n",
    "print heat_review_time_2014.quantile([0.25, 0.5, 0.75])"
   ]
  },
  {
   "cell_type": "markdown",
   "metadata": {},
   "source": [
    "## Year 2013"
   ]
  },
  {
   "cell_type": "code",
   "execution_count": 257,
   "metadata": {
    "collapsed": false
   },
   "outputs": [],
   "source": [
    "# review time in Heat for year 2013\n",
    "heat_review_time_2013 = data_heat_df[(data_heat_df[\"gerrit_closing_date\"] >= '2013-01-01') & (data_heat_df[\"gerrit_closing_date\"] <= '2014-01-01')];\n",
    "# heat_review_time_2013"
   ]
  },
  {
   "cell_type": "markdown",
   "metadata": {},
   "source": [
    "1804 fixes have been merged in Heat during 2013"
   ]
  },
  {
   "cell_type": "code",
   "execution_count": 258,
   "metadata": {
    "collapsed": false
   },
   "outputs": [
    {
     "name": "stdout",
     "output_type": "stream",
     "text": [
      "Median Time for reviewing during 2013: 31.676528 hours\n",
      "Quantiles: (time reported in seconds) \n",
      "      time2close\n",
      "0.25    30395.50\n",
      "0.50   114035.50\n",
      "0.75   346223.75\n"
     ]
    }
   ],
   "source": [
    "# Median time and quantiles for Heat 2013\n",
    "print \"Median Time for reviewing during 2013: %f hours\" % (heat_review_time_2013.median()/3600.0)\n",
    "print \"Quantiles: (time reported in seconds) \"\n",
    "print heat_review_time_2013.quantile([0.25, 0.5, 0.75])"
   ]
  },
  {
   "cell_type": "markdown",
   "metadata": {},
   "source": [
    "## Year 2012"
   ]
  },
  {
   "cell_type": "code",
   "execution_count": 260,
   "metadata": {
    "collapsed": false
   },
   "outputs": [],
   "source": [
    "# review time in Heat for year 2012\n",
    "heat_review_time_2012 = data_heat_df[(data_heat_df[\"gerrit_closing_date\"] >= '2012-01-01') & (data_heat_df[\"gerrit_closing_date\"] <= '2013-01-01')];\n",
    "# heat_review_time_2012"
   ]
  },
  {
   "cell_type": "markdown",
   "metadata": {},
   "source": [
    "618 fixes were merged in Heat during 2012"
   ]
  },
  {
   "cell_type": "code",
   "execution_count": 261,
   "metadata": {
    "collapsed": false
   },
   "outputs": [
    {
     "name": "stdout",
     "output_type": "stream",
     "text": [
      "Median Time for reviewing during 2012: 0.660833 hours\n",
      "Quantiles: (time reported in seconds) \n",
      "      time2close\n",
      "0.25      278.25\n",
      "0.50     2379.00\n",
      "0.75    19587.75\n"
     ]
    }
   ],
   "source": [
    "# Median time and quantiles for Heat 2012\n",
    "print \"Median Time for reviewing during 2012: %f hours\" % (heat_review_time_2012.median()/3600.0)\n",
    "print \"Quantiles: (time reported in seconds) \"\n",
    "print heat_review_time_2012.quantile([0.25, 0.5, 0.75])"
   ]
  },
  {
   "cell_type": "markdown",
   "metadata": {},
   "source": [
    "## Year 2011"
   ]
  },
  {
   "cell_type": "code",
   "execution_count": 262,
   "metadata": {
    "collapsed": false
   },
   "outputs": [
    {
     "data": {
      "text/html": [
       "<div>\n",
       "<table border=\"1\" class=\"dataframe\">\n",
       "  <thead>\n",
       "    <tr style=\"text-align: right;\">\n",
       "      <th></th>\n",
       "      <th>gerrit_issue</th>\n",
       "      <th>gerrit_opening_date</th>\n",
       "      <th>gerrit_closing_date</th>\n",
       "      <th>time2close</th>\n",
       "      <th>gerrit_tracker</th>\n",
       "      <th>current_status</th>\n",
       "    </tr>\n",
       "  </thead>\n",
       "  <tbody>\n",
       "  </tbody>\n",
       "</table>\n",
       "</div>"
      ],
      "text/plain": [
       "Empty DataFrame\n",
       "Columns: [gerrit_issue, gerrit_opening_date, gerrit_closing_date, time2close, gerrit_tracker, current_status]\n",
       "Index: []"
      ]
     },
     "execution_count": 262,
     "metadata": {},
     "output_type": "execute_result"
    }
   ],
   "source": [
    "# review time in Heat for year 2011\n",
    "heat_review_time_2011 = data_heat_df[(data_heat_df[\"gerrit_closing_date\"] >= '2011-01-01') & (data_heat_df[\"gerrit_closing_date\"] <= '2012-01-01')];\n",
    "heat_review_time_2011"
   ]
  },
  {
   "cell_type": "markdown",
   "metadata": {},
   "source": [
    "no fixes in Heat during 2011"
   ]
  },
  {
   "cell_type": "markdown",
   "metadata": {},
   "source": [
    "# Time to review in Other Projects "
   ]
  },
  {
   "cell_type": "code",
   "execution_count": 289,
   "metadata": {
    "collapsed": false
   },
   "outputs": [],
   "source": [
    "# review time in the other projects of OS for year 2015\n",
    "others_review_time = pandas_ds[(~pandas_ds[\"gerrit_tracker\"].str.contains(\"/nova\") & ~pandas_ds[\"gerrit_tracker\"].str.contains(\"/swift\") & ~pandas_ds[\"gerrit_tracker\"].str.contains(\"/cinder\") & ~pandas_ds[\"gerrit_tracker\"].str.contains(\"/neutron\") & ~pandas_ds[\"gerrit_tracker\"].str.contains(\"/horizon\") & ~pandas_ds[\"gerrit_tracker\"].str.contains(\"/keystone\") & ~pandas_ds[\"gerrit_tracker\"].str.contains(\"/glance\") & ~pandas_ds[\"gerrit_tracker\"].str.contains(\"/ceilometer\") & ~pandas_ds[\"gerrit_tracker\"].str.contains(\"/heat\"))];\n",
    "# others_review_time"
   ]
  },
  {
   "cell_type": "markdown",
   "metadata": {},
   "source": [
    "115280 total fixes in Other Projects from 2011 to 2015."
   ]
  },
  {
   "cell_type": "code",
   "execution_count": 290,
   "metadata": {
    "collapsed": false,
    "scrolled": true
   },
   "outputs": [
    {
     "name": "stdout",
     "output_type": "stream",
     "text": [
      "Median Time for reviewing in Other Projects from 2011 to 2015: 42.052361 hours\n",
      "Quantiles: (time reported in seconds) \n",
      "      time2close\n",
      "0.25    21791.00\n",
      "0.50   151388.50\n",
      "0.75   613882.25\n"
     ]
    }
   ],
   "source": [
    "# Median time and quantiles for Other Projects from 2011 to 2015\n",
    "print \"Median Time for reviewing in Other Projects from 2011 to 2015: %f hours\" % (others_review_time.median()/3600.0)\n",
    "print \"Quantiles: (time reported in seconds) \"\n",
    "print others_review_time.quantile([0.25, 0.5, 0.75])"
   ]
  },
  {
   "cell_type": "markdown",
   "metadata": {},
   "source": [
    "## Time to review in Other Projects during 2015"
   ]
  },
  {
   "cell_type": "code",
   "execution_count": 285,
   "metadata": {
    "collapsed": false
   },
   "outputs": [],
   "source": [
    "# review time in the other projects of OS for year 2015\n",
    "others_review_time_2015 = pandas_ds[(pandas_ds[\"gerrit_closing_date\"] >= '2015-01-01') & (pandas_ds[\"gerrit_closing_date\"] <= '2016-01-01') & (~pandas_ds[\"gerrit_tracker\"].str.contains(\"/nova\") & ~pandas_ds[\"gerrit_tracker\"].str.contains(\"/swift\") & ~pandas_ds[\"gerrit_tracker\"].str.contains(\"/cinder\") & ~pandas_ds[\"gerrit_tracker\"].str.contains(\"/neutron\") & ~pandas_ds[\"gerrit_tracker\"].str.contains(\"/horizon\") & ~pandas_ds[\"gerrit_tracker\"].str.contains(\"/keystone\") & ~pandas_ds[\"gerrit_tracker\"].str.contains(\"/glance\") & ~pandas_ds[\"gerrit_tracker\"].str.contains(\"/ceilometer\") & ~pandas_ds[\"gerrit_tracker\"].str.contains(\"/heat\"))];\n",
    "# others_review_time_2015"
   ]
  },
  {
   "cell_type": "markdown",
   "metadata": {},
   "source": [
    "57195 fixes in 2015 for Other Projects."
   ]
  },
  {
   "cell_type": "code",
   "execution_count": 286,
   "metadata": {
    "collapsed": false
   },
   "outputs": [
    {
     "name": "stdout",
     "output_type": "stream",
     "text": [
      "Median Time for reviewing during 2015: 45.298611 hours\n",
      "Quantiles: (time reported in seconds) \n",
      "      time2close\n",
      "0.25     27763.0\n",
      "0.50    163075.0\n",
      "0.75    628731.5\n"
     ]
    }
   ],
   "source": [
    "# Median time and quantiles for Other Projects in 2015\n",
    "print \"Median Time for reviewing during 2015: %f hours\" % (others_review_time_2015.median()/3600.0)\n",
    "print \"Quantiles: (time reported in seconds) \"\n",
    "print others_review_time_2015.quantile([0.25, 0.5, 0.75])"
   ]
  },
  {
   "cell_type": "markdown",
   "metadata": {},
   "source": [
    "## Time to review in Other Projects during 2014"
   ]
  },
  {
   "cell_type": "code",
   "execution_count": 288,
   "metadata": {
    "collapsed": false
   },
   "outputs": [],
   "source": [
    "# review time in the other projects of OS for year 2014\n",
    "others_review_time_2014 = pandas_ds[(pandas_ds[\"gerrit_closing_date\"] >= '2014-01-01') & (pandas_ds[\"gerrit_closing_date\"] <= '2015-01-01') & (~pandas_ds[\"gerrit_tracker\"].str.contains(\"/nova\") & ~pandas_ds[\"gerrit_tracker\"].str.contains(\"/swift\") & ~pandas_ds[\"gerrit_tracker\"].str.contains(\"/cinder\") & ~pandas_ds[\"gerrit_tracker\"].str.contains(\"/neutron\") & ~pandas_ds[\"gerrit_tracker\"].str.contains(\"/horizon\") & ~pandas_ds[\"gerrit_tracker\"].str.contains(\"/keystone\") & ~pandas_ds[\"gerrit_tracker\"].str.contains(\"/glance\") & ~pandas_ds[\"gerrit_tracker\"].str.contains(\"/ceilometer\") & ~pandas_ds[\"gerrit_tracker\"].str.contains(\"/heat\"))];\n",
    "# others_review_time_2014"
   ]
  },
  {
   "cell_type": "markdown",
   "metadata": {},
   "source": [
    "35747 fixes in 2014 for Other Projects."
   ]
  },
  {
   "cell_type": "code",
   "execution_count": 298,
   "metadata": {
    "collapsed": false
   },
   "outputs": [
    {
     "name": "stdout",
     "output_type": "stream",
     "text": [
      "Median Time for reviewing during 2014: 55.765833 hours\n",
      "Quantiles: (time reported in seconds) \n",
      "      time2close\n",
      "0.25     32783.5\n",
      "0.50    200757.0\n",
      "0.75    777109.5\n"
     ]
    }
   ],
   "source": [
    "# Median time and quantiles for Other Projects in 2014\n",
    "print \"Median Time for reviewing during 2014: %f hours\" % (others_review_time_2014.median()/3600.0)\n",
    "print \"Quantiles: (time reported in seconds) \"\n",
    "print others_review_time_2014.quantile([0.25, 0.5, 0.75])"
   ]
  },
  {
   "cell_type": "markdown",
   "metadata": {},
   "source": [
    "## Time to review in Other Projects during 2013"
   ]
  },
  {
   "cell_type": "code",
   "execution_count": 293,
   "metadata": {
    "collapsed": false
   },
   "outputs": [],
   "source": [
    "# review time in the other projects of OS for year 2013\n",
    "others_review_time_2013 = pandas_ds[(pandas_ds[\"gerrit_closing_date\"] >= '2013-01-01') & (pandas_ds[\"gerrit_closing_date\"] <= '2014-01-01') & (~pandas_ds[\"gerrit_tracker\"].str.contains(\"/nova\") & ~pandas_ds[\"gerrit_tracker\"].str.contains(\"/swift\") & ~pandas_ds[\"gerrit_tracker\"].str.contains(\"/cinder\") & ~pandas_ds[\"gerrit_tracker\"].str.contains(\"/neutron\") & ~pandas_ds[\"gerrit_tracker\"].str.contains(\"/horizon\") & ~pandas_ds[\"gerrit_tracker\"].str.contains(\"/keystone\") & ~pandas_ds[\"gerrit_tracker\"].str.contains(\"/glance\") & ~pandas_ds[\"gerrit_tracker\"].str.contains(\"/ceilometer\") & ~pandas_ds[\"gerrit_tracker\"].str.contains(\"/heat\"))];\n",
    "# others_review_time_2013"
   ]
  },
  {
   "cell_type": "markdown",
   "metadata": {},
   "source": [
    "16754 fixes in 2013 for Other Projects."
   ]
  },
  {
   "cell_type": "code",
   "execution_count": 299,
   "metadata": {
    "collapsed": false
   },
   "outputs": [
    {
     "name": "stdout",
     "output_type": "stream",
     "text": [
      "Median Time for reviewing during 2013: 22.471528 hours\n",
      "Quantiles: (time reported in seconds) \n",
      "      time2close\n",
      "0.25     7826.25\n",
      "0.50    80897.50\n",
      "0.75   386745.50\n"
     ]
    }
   ],
   "source": [
    "# Median time and quantiles for Other Projects in 2013\n",
    "print \"Median Time for reviewing during 2013: %f hours\" % (others_review_time_2013.median()/3600.0)\n",
    "print \"Quantiles: (time reported in seconds) \"\n",
    "print others_review_time_2013.quantile([0.25, 0.5, 0.75])"
   ]
  },
  {
   "cell_type": "markdown",
   "metadata": {},
   "source": [
    "## Time to review in Other Projects during 2012"
   ]
  },
  {
   "cell_type": "code",
   "execution_count": 297,
   "metadata": {
    "collapsed": false
   },
   "outputs": [],
   "source": [
    "# review time in the other projects of OS for year 2012\n",
    "others_review_time_2012 = pandas_ds[(pandas_ds[\"gerrit_closing_date\"] >= '2012-01-01') & (pandas_ds[\"gerrit_closing_date\"] <= '2013-01-01') & (~pandas_ds[\"gerrit_tracker\"].str.contains(\"/nova\") & ~pandas_ds[\"gerrit_tracker\"].str.contains(\"/swift\") & ~pandas_ds[\"gerrit_tracker\"].str.contains(\"/cinder\") & ~pandas_ds[\"gerrit_tracker\"].str.contains(\"/neutron\") & ~pandas_ds[\"gerrit_tracker\"].str.contains(\"/horizon\") & ~pandas_ds[\"gerrit_tracker\"].str.contains(\"/keystone\") & ~pandas_ds[\"gerrit_tracker\"].str.contains(\"/glance\") & ~pandas_ds[\"gerrit_tracker\"].str.contains(\"/ceilometer\") & ~pandas_ds[\"gerrit_tracker\"].str.contains(\"/heat\"))];\n",
    "# others_review_time_2012"
   ]
  },
  {
   "cell_type": "markdown",
   "metadata": {},
   "source": [
    "3853 fixes in 2013 for Other Projects."
   ]
  },
  {
   "cell_type": "code",
   "execution_count": 300,
   "metadata": {
    "collapsed": false
   },
   "outputs": [
    {
     "name": "stdout",
     "output_type": "stream",
     "text": [
      "Median Time for reviewing during 2012: 12.142500 hours\n",
      "Quantiles: (time reported in seconds) \n",
      "      time2close\n",
      "0.25         788\n",
      "0.50       43713\n",
      "0.75      255904\n"
     ]
    }
   ],
   "source": [
    "# Median time and quantiles for Other Projects in 2012\n",
    "print \"Median Time for reviewing during 2012: %f hours\" % (others_review_time_2012.median()/3600.0)\n",
    "print \"Quantiles: (time reported in seconds) \"\n",
    "print others_review_time_2012.quantile([0.25, 0.5, 0.75])"
   ]
  },
  {
   "cell_type": "markdown",
   "metadata": {},
   "source": [
    "## Time to review in Other Projects during 2011"
   ]
  },
  {
   "cell_type": "code",
   "execution_count": 307,
   "metadata": {
    "collapsed": false
   },
   "outputs": [],
   "source": [
    "# review time in the other projects of OS for year 2011\n",
    "others_review_time_2011 = pandas_ds[(pandas_ds[\"gerrit_closing_date\"] >= '2011-01-01') & (pandas_ds[\"gerrit_closing_date\"] <= '2012-01-01') & (~pandas_ds[\"gerrit_tracker\"].str.contains(\"/nova\") & ~pandas_ds[\"gerrit_tracker\"].str.contains(\"/swift\") & ~pandas_ds[\"gerrit_tracker\"].str.contains(\"/cinder\") & ~pandas_ds[\"gerrit_tracker\"].str.contains(\"/neutron\") & ~pandas_ds[\"gerrit_tracker\"].str.contains(\"/horizon\") & ~pandas_ds[\"gerrit_tracker\"].str.contains(\"/keystone\") & ~pandas_ds[\"gerrit_tracker\"].str.contains(\"/glance\") & ~pandas_ds[\"gerrit_tracker\"].str.contains(\"/ceilometer\") & ~pandas_ds[\"gerrit_tracker\"].str.contains(\"/heat\")) & (pandas_ds[\"time2close\"] > 0)];\n",
    "# others_review_time_2011"
   ]
  },
  {
   "cell_type": "markdown",
   "metadata": {},
   "source": [
    "340 fixes in 2013 for Other Projects."
   ]
  },
  {
   "cell_type": "code",
   "execution_count": 308,
   "metadata": {
    "collapsed": false
   },
   "outputs": [
    {
     "name": "stdout",
     "output_type": "stream",
     "text": [
      "Median Time for reviewing during 2011: 11.478750 hours\n",
      "Quantiles: (time reported in seconds) \n",
      "      time2close\n",
      "0.25     3356.75\n",
      "0.50    41323.50\n",
      "0.75   174854.25\n"
     ]
    }
   ],
   "source": [
    "# Median time and quantiles for Other Projects in 2011\n",
    "print \"Median Time for reviewing during 2011: %f hours\" % (others_review_time_2011.median()/3600.0)\n",
    "print \"Quantiles: (time reported in seconds) \"\n",
    "print others_review_time_2011.quantile([0.25, 0.5, 0.75])"
   ]
  }
 ],
 "metadata": {
  "kernelspec": {
   "display_name": "Python 2",
   "language": "python",
   "name": "python2"
  },
  "language_info": {
   "codemirror_mode": {
    "name": "ipython",
    "version": 2
   },
   "file_extension": ".py",
   "mimetype": "text/x-python",
   "name": "python",
   "nbconvert_exporter": "python",
   "pygments_lexer": "ipython2",
   "version": "2.7.10"
  }
 },
 "nbformat": 4,
 "nbformat_minor": 0
}

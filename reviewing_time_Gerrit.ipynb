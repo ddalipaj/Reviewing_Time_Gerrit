{
 "cells": [
  {
   "cell_type": "markdown",
   "metadata": {},
   "source": [
    "# Time for solving an issue in Gerrit "
   ]
  },
  {
   "cell_type": "code",
   "execution_count": 3,
   "metadata": {
    "collapsed": false
   },
   "outputs": [],
   "source": [
    "import MySQLdb\n",
    "import pandas\n",
    "\n",
    "def connect():\n",
    "   user = \"root\"\n",
    "   password = \"\"\n",
    "   host = \"localhost\"\n",
    "   db = \"lp_vs_gerrit_metrics\"\n",
    "   port=3306\n",
    "   use_unicode=True\n",
    "\n",
    "   try:\n",
    "      db = MySQLdb.connect(user = user, passwd = password, db = db, port = port, use_unicode = use_unicode)\n",
    "      return db, db.cursor()\n",
    "   except:\n",
    "      logging.error(\"Database connection error!\")\n",
    "      raise\n",
    "        \n",
    "def execute_query(connector, query):\n",
    "   results = int (connector.execute(query))\n",
    "   cont = 0\n",
    "   if results > 0:\n",
    "      result1 = connector.fetchall()\n",
    "      return result1\n",
    "   else:\n",
    "      return []\n",
    "    \n",
    "db, cursor = connect()"
   ]
  },
  {
   "cell_type": "markdown",
   "metadata": {},
   "source": [
    "### The next query focuses on collecting data for measuring the time to review the issues in Gerrit. \n",
    "For this we extract the issues that have been closed. "
   ]
  },
  {
   "cell_type": "code",
   "execution_count": 11,
   "metadata": {
    "collapsed": false
   },
   "outputs": [],
   "source": [
    "query = \"\"\" select i.issue                       as gerrit_issue,  \n",
    "                   t0.opening_date               as gerrit_opening_date,  \n",
    "                   t1.closing_date               as gerrit_closing_date, \n",
    "                   timestampdiff(SECOND, t0.opening_date, t1.closing_date) as time2close, \n",
    "                   t.url                         as gerrit_tracker,\n",
    "                   i.status                      as current_status \n",
    "            from issuesCR i, \n",
    "                 trackers t, \n",
    "                 changes ch, \n",
    "                 (select i.id as issue_id, \n",
    "                         ch.changed_on as closing_date \n",
    "                  from issuesCR i \n",
    "                    left join changes ch \n",
    "                    on ch.issue_id = i.id and \n",
    "                       field='status' and \n",
    "                       new_value='MERGED' ) t1, \n",
    "                 (select ch.issue_id, \n",
    "                         ch.changed_on as opening_date \n",
    "                  from changes ch \n",
    "                  where ch.field='status' and \n",
    "                        ch.new_value='UPLOADED' and \n",
    "                        ch.old_value=1) t0 \n",
    "            where i.tracker_id=t.id and \n",
    "                  ch.issue_id = i.id and \n",
    "                  i.id=t0.issue_id  and \n",
    "                  i.id=t1.issue_id \n",
    "            group by i.issue \"\"\""
   ]
  },
  {
   "cell_type": "code",
   "execution_count": 12,
   "metadata": {
    "collapsed": false
   },
   "outputs": [],
   "source": [
    "data = execute_query(cursor, query)"
   ]
  },
  {
   "cell_type": "markdown",
   "metadata": {},
   "source": [
    "## Importing data to pandas"
   ]
  },
  {
   "cell_type": "code",
   "execution_count": 13,
   "metadata": {
    "collapsed": true
   },
   "outputs": [],
   "source": [
    "data_list = list(data)"
   ]
  },
  {
   "cell_type": "code",
   "execution_count": 14,
   "metadata": {
    "collapsed": false
   },
   "outputs": [
    {
     "data": {
      "text/plain": [
       "['gerrit_issue',\n",
       " 'gerrit_opening_date',\n",
       " 'gerrit_closing_date',\n",
       " 'time2close',\n",
       " 'gerrit_tracker',\n",
       " 'current_status']"
      ]
     },
     "execution_count": 14,
     "metadata": {},
     "output_type": "execute_result"
    }
   ],
   "source": [
    "pandas_ds = pandas.DataFrame(data_list, columns=[\"gerrit_issue\", \"gerrit_opening_date\", \"gerrit_closing_date\", \"time2close\", \"gerrit_tracker\", \"current_status\"])\n",
    "pandas_ds.columns.values.tolist()"
   ]
  },
  {
   "cell_type": "markdown",
   "metadata": {},
   "source": [
    "### Calculation of medium and median time"
   ]
  },
  {
   "cell_type": "code",
   "execution_count": 19,
   "metadata": {
    "collapsed": true
   },
   "outputs": [],
   "source": [
    "time2close = pandas_ds[\"time2close\"]"
   ]
  },
  {
   "cell_type": "code",
   "execution_count": 20,
   "metadata": {
    "collapsed": false
   },
   "outputs": [
    {
     "name": "stdout",
     "output_type": "stream",
     "text": [
      "Mean time for solving an issue: 256.477180 hours\n",
      "Median time for solving an issue: 52.171111 hours\n",
      "Quantiles: \n",
      "0.25     29587.25\n",
      "0.50    187816.00\n",
      "0.75    769489.50\n",
      "Name: time2close, dtype: float64\n"
     ]
    }
   ],
   "source": [
    "print \"Mean time for solving an issue: %f hours\" % (time2close.mean()/3600.0)\n",
    "print \"Median time for solving an issue: %f hours\" % (time2close.median()/3600.0)\n",
    "print \"Quantiles: \"\n",
    "print time2close.quantile([0.25, 0.5, 0.75])"
   ]
  },
  {
   "cell_type": "code",
   "execution_count": 22,
   "metadata": {
    "collapsed": false,
    "scrolled": true
   },
   "outputs": [
    {
     "name": "stdout",
     "output_type": "stream",
     "text": [
      "Populating the interactive namespace from numpy and matplotlib\n"
     ]
    },
    {
     "data": {
      "text/plain": [
       "<matplotlib.axes._subplots.AxesSubplot at 0x7fc7e2c92950>"
      ]
     },
     "execution_count": 22,
     "metadata": {},
     "output_type": "execute_result"
    },
    {
     "data": {
      "image/png": "[encoded data removed]",
      "text/plain": [
       "<matplotlib.figure.Figure at 0x7fc7e80ed890>"
      ]
     },
     "metadata": {},
     "output_type": "display_data"
    }
   ],
   "source": [
    "# Histogram of the time for solving an issue\n",
    "%pylab inline\n",
    "pandas_ds[\"time2close\"].plot(kind=\"hist\")"
   ]
  },
  {
   "cell_type": "code",
   "execution_count": null,
   "metadata": {
    "collapsed": true
   },
   "outputs": [],
   "source": []
  }
 ],
 "metadata": {
  "kernelspec": {
   "display_name": "Python 2",
   "language": "python",
   "name": "python2"
  },
  "language_info": {
   "codemirror_mode": {
    "name": "ipython",
    "version": 2
   },
   "file_extension": ".py",
   "mimetype": "text/x-python",
   "name": "python",
   "nbconvert_exporter": "python",
   "pygments_lexer": "ipython2",
   "version": "2.7.10"
  }
 },
 "nbformat": 4,
 "nbformat_minor": 0
}
